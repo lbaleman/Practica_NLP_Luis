{
 "cells": [
  {
   "cell_type": "markdown",
   "metadata": {},
   "source": [
    "## Preparación del dataset"
   ]
  },
  {
   "cell_type": "markdown",
   "metadata": {},
   "source": [
    "Importamos 4 dataset distintos de reviews de amazon, eliminamos todas aquellas reviews con valores nulos, seleccionamos 10000 muestras de cada dataset y los unimos."
   ]
  },
  {
   "cell_type": "code",
   "execution_count": 1,
   "metadata": {},
   "outputs": [],
   "source": [
    "import pandas as pd\n",
    "\n",
    "df_automotive = pd.read_json('../../data_practica/Automotive_5.json', lines=True)\n",
    "df_music = pd.read_json('../../data_practica/Musical_Instruments_5.json', lines=True)\n",
    "df_office = pd.read_json('../../data_practica/Office_Products_5.json', lines=True)\n",
    "df_garden = pd.read_json('../../data_practica/Patio_Lawn_and_Garden_5.json', lines=True)"
   ]
  },
  {
   "cell_type": "code",
   "execution_count": 2,
   "metadata": {},
   "outputs": [
    {
     "name": "stdout",
     "output_type": "stream",
     "text": [
      "20473\n",
      "10261\n",
      "53258\n",
      "13272\n"
     ]
    }
   ],
   "source": [
    "lista = [df_automotive, df_music, df_office, df_garden]\n",
    "for i in lista:\n",
    "    print(len(i))"
   ]
  },
  {
   "cell_type": "code",
   "execution_count": 3,
   "metadata": {},
   "outputs": [],
   "source": [
    "df_automotive.dropna(subset=['reviewText'], inplace=True)\n",
    "df_music.dropna(subset=['reviewText'], inplace=True)\n",
    "df_office.dropna(subset=['reviewText'], inplace=True)\n",
    "df_garden.dropna(subset=['reviewText'], inplace=True)"
   ]
  },
  {
   "cell_type": "markdown",
   "metadata": {},
   "source": [
    "Como se puede comproar, no se ha eliminado ningun dato."
   ]
  },
  {
   "cell_type": "code",
   "execution_count": 4,
   "metadata": {},
   "outputs": [
    {
     "name": "stdout",
     "output_type": "stream",
     "text": [
      "20473\n",
      "10261\n",
      "53258\n",
      "13272\n"
     ]
    }
   ],
   "source": [
    "lista = [df_automotive, df_music, df_office, df_garden]\n",
    "for i in lista:\n",
    "    print(len(i))"
   ]
  },
  {
   "cell_type": "code",
   "execution_count": 5,
   "metadata": {},
   "outputs": [],
   "source": [
    "df_automotive = pd.DataFrame(df_automotive).sample(n=10000)\n",
    "df_music = pd.DataFrame(df_music).sample(n=10000)\n",
    "df_office = pd.DataFrame(df_office).sample(n=10000)\n",
    "df_garden = pd.DataFrame(df_garden).sample(n=10000)"
   ]
  },
  {
   "cell_type": "code",
   "execution_count": 6,
   "metadata": {},
   "outputs": [],
   "source": [
    "df_entero = pd.concat([df_automotive, df_music, df_office, df_garden], axis=0)"
   ]
  },
  {
   "cell_type": "code",
   "execution_count": 7,
   "metadata": {},
   "outputs": [
    {
     "data": {
      "text/plain": [
       "40000"
      ]
     },
     "execution_count": 7,
     "metadata": {},
     "output_type": "execute_result"
    }
   ],
   "source": [
    "len(df_entero)"
   ]
  },
  {
   "cell_type": "markdown",
   "metadata": {},
   "source": [
    "Hacemos un shuffle para mezclar los datos de manera aleatoria, para no cometer ninguna infracción en el modelo."
   ]
  },
  {
   "cell_type": "code",
   "execution_count": 8,
   "metadata": {},
   "outputs": [],
   "source": [
    "from sklearn.utils import shuffle\n",
    "df_entero = shuffle(df_entero)"
   ]
  },
  {
   "cell_type": "code",
   "execution_count": 9,
   "metadata": {},
   "outputs": [
    {
     "name": "stdout",
     "output_type": "stream",
     "text": [
      "10000\n",
      "10000\n",
      "10000\n",
      "10000\n"
     ]
    }
   ],
   "source": [
    "lista = [df_automotive, df_music, df_office, df_garden]\n",
    "for i in lista:\n",
    "    print(len(i))"
   ]
  },
  {
   "cell_type": "markdown",
   "metadata": {},
   "source": [
    "## Topic Modeling"
   ]
  },
  {
   "cell_type": "markdown",
   "metadata": {},
   "source": [
    "Seleccionamos unicamente la columna de reviews para realizar el topic modeling."
   ]
  },
  {
   "cell_type": "code",
   "execution_count": 10,
   "metadata": {},
   "outputs": [],
   "source": [
    "df_final = pd.DataFrame(df_entero, columns = ['reviewText'])"
   ]
  },
  {
   "cell_type": "code",
   "execution_count": 11,
   "metadata": {},
   "outputs": [
    {
     "data": {
      "text/html": [
       "<div>\n",
       "<style scoped>\n",
       "    .dataframe tbody tr th:only-of-type {\n",
       "        vertical-align: middle;\n",
       "    }\n",
       "\n",
       "    .dataframe tbody tr th {\n",
       "        vertical-align: top;\n",
       "    }\n",
       "\n",
       "    .dataframe thead th {\n",
       "        text-align: right;\n",
       "    }\n",
       "</style>\n",
       "<table border=\"1\" class=\"dataframe\">\n",
       "  <thead>\n",
       "    <tr style=\"text-align: right;\">\n",
       "      <th></th>\n",
       "      <th>reviewText</th>\n",
       "    </tr>\n",
       "  </thead>\n",
       "  <tbody>\n",
       "    <tr>\n",
       "      <td>41189</td>\n",
       "      <td>Besides the benefit of having twice the erasin...</td>\n",
       "    </tr>\n",
       "    <tr>\n",
       "      <td>44500</td>\n",
       "      <td>These pens are great.  Smooth writing, and I r...</td>\n",
       "    </tr>\n",
       "    <tr>\n",
       "      <td>37849</td>\n",
       "      <td>I've had Epson and HP printers, and both have ...</td>\n",
       "    </tr>\n",
       "    <tr>\n",
       "      <td>12647</td>\n",
       "      <td>love this mount. works great and looks good to...</td>\n",
       "    </tr>\n",
       "    <tr>\n",
       "      <td>9831</td>\n",
       "      <td>It is okay. It serves the purpose. It is a goo...</td>\n",
       "    </tr>\n",
       "  </tbody>\n",
       "</table>\n",
       "</div>"
      ],
      "text/plain": [
       "                                              reviewText\n",
       "41189  Besides the benefit of having twice the erasin...\n",
       "44500  These pens are great.  Smooth writing, and I r...\n",
       "37849  I've had Epson and HP printers, and both have ...\n",
       "12647  love this mount. works great and looks good to...\n",
       "9831   It is okay. It serves the purpose. It is a goo..."
      ]
     },
     "execution_count": 11,
     "metadata": {},
     "output_type": "execute_result"
    }
   ],
   "source": [
    "df_final.head()"
   ]
  },
  {
   "cell_type": "markdown",
   "metadata": {},
   "source": [
    "Hacemos una primera aproximacion con el procesado de gensim, sin realizar un preprocesado mayor."
   ]
  },
  {
   "cell_type": "code",
   "execution_count": 12,
   "metadata": {},
   "outputs": [
    {
     "name": "stdout",
     "output_type": "stream",
     "text": [
      "Requirement already satisfied: gensim in c:\\users\\lbastos\\anaconda3\\lib\\site-packages (3.8.3)\n",
      "Requirement already satisfied: numpy>=1.11.3 in c:\\users\\lbastos\\anaconda3\\lib\\site-packages (from gensim) (1.16.5)\n",
      "Requirement already satisfied: scipy>=0.18.1 in c:\\users\\lbastos\\anaconda3\\lib\\site-packages (from gensim) (1.4.1)\n",
      "Requirement already satisfied: Cython==0.29.14 in c:\\users\\lbastos\\anaconda3\\lib\\site-packages (from gensim) (0.29.14)\n",
      "Requirement already satisfied: smart-open>=1.8.1 in c:\\users\\lbastos\\anaconda3\\lib\\site-packages (from gensim) (2.1.0)\n",
      "Requirement already satisfied: six>=1.5.0 in c:\\users\\lbastos\\anaconda3\\lib\\site-packages (from gensim) (1.12.0)\n",
      "Requirement already satisfied: requests in c:\\users\\lbastos\\anaconda3\\lib\\site-packages (from smart-open>=1.8.1->gensim) (2.22.0)\n",
      "Requirement already satisfied: boto3 in c:\\users\\lbastos\\anaconda3\\lib\\site-packages (from smart-open>=1.8.1->gensim) (1.14.23)\n",
      "Requirement already satisfied: boto in c:\\users\\lbastos\\anaconda3\\lib\\site-packages (from smart-open>=1.8.1->gensim) (2.49.0)\n",
      "Requirement already satisfied: idna<2.9,>=2.5 in c:\\users\\lbastos\\anaconda3\\lib\\site-packages (from requests->smart-open>=1.8.1->gensim) (2.8)\n",
      "Requirement already satisfied: urllib3!=1.25.0,!=1.25.1,<1.26,>=1.21.1 in c:\\users\\lbastos\\anaconda3\\lib\\site-packages (from requests->smart-open>=1.8.1->gensim) (1.24.2)\n",
      "Requirement already satisfied: chardet<3.1.0,>=3.0.2 in c:\\users\\lbastos\\anaconda3\\lib\\site-packages (from requests->smart-open>=1.8.1->gensim) (3.0.4)\n",
      "Requirement already satisfied: certifi>=2017.4.17 in c:\\users\\lbastos\\anaconda3\\lib\\site-packages (from requests->smart-open>=1.8.1->gensim) (2019.9.11)\n",
      "Requirement already satisfied: jmespath<1.0.0,>=0.7.1 in c:\\users\\lbastos\\anaconda3\\lib\\site-packages (from boto3->smart-open>=1.8.1->gensim) (0.10.0)\n",
      "Requirement already satisfied: botocore<1.18.0,>=1.17.23 in c:\\users\\lbastos\\anaconda3\\lib\\site-packages (from boto3->smart-open>=1.8.1->gensim) (1.17.23)\n",
      "Requirement already satisfied: s3transfer<0.4.0,>=0.3.0 in c:\\users\\lbastos\\anaconda3\\lib\\site-packages (from boto3->smart-open>=1.8.1->gensim) (0.3.3)\n",
      "Requirement already satisfied: python-dateutil<3.0.0,>=2.1 in c:\\users\\lbastos\\anaconda3\\lib\\site-packages (from botocore<1.18.0,>=1.17.23->boto3->smart-open>=1.8.1->gensim) (2.8.0)\n",
      "Requirement already satisfied: docutils<0.16,>=0.10 in c:\\users\\lbastos\\anaconda3\\lib\\site-packages (from botocore<1.18.0,>=1.17.23->boto3->smart-open>=1.8.1->gensim) (0.15.2)\n"
     ]
    }
   ],
   "source": [
    "!pip install gensim\n",
    "# !pip install pyLDAvis"
   ]
  },
  {
   "cell_type": "code",
   "execution_count": 13,
   "metadata": {},
   "outputs": [
    {
     "name": "stderr",
     "output_type": "stream",
     "text": [
      "C:\\Users\\LBastos\\Anaconda3\\lib\\site-packages\\past\\types\\oldstr.py:5: DeprecationWarning: Using or importing the ABCs from 'collections' instead of from 'collections.abc' is deprecated, and in 3.8 it will stop working\n",
      "  from collections import Iterable\n",
      "C:\\Users\\LBastos\\Anaconda3\\lib\\site-packages\\past\\builtins\\misc.py:4: DeprecationWarning: Using or importing the ABCs from 'collections' instead of from 'collections.abc' is deprecated, and in 3.8 it will stop working\n",
      "  from collections import Mapping\n"
     ]
    }
   ],
   "source": [
    "import random\n",
    "import pandas as pd\n",
    "\n",
    "import gensim\n",
    "from gensim.corpora import Dictionary\n",
    "from gensim.models import LdaModel, CoherenceModel\n",
    "\n",
    "import pyLDAvis\n",
    "import pyLDAvis.gensim\n",
    "import matplotlib.pyplot as plt"
   ]
  },
  {
   "cell_type": "code",
   "execution_count": 14,
   "metadata": {},
   "outputs": [],
   "source": [
    "def text_preprocessing(text):\n",
    "    result=[]\n",
    "    for token in gensim.utils.simple_preprocess(text) :\n",
    "        if token not in gensim.parsing.preprocessing.STOPWORDS and len(token) > 3:\n",
    "            result.append(token)\n",
    "    return result"
   ]
  },
  {
   "cell_type": "code",
   "execution_count": 15,
   "metadata": {},
   "outputs": [],
   "source": [
    "processed_texts_gensim = []\n",
    "for text in df_final['reviewText']:\n",
    "    processed_texts_gensim.append(text_preprocessing(text))"
   ]
  },
  {
   "cell_type": "code",
   "execution_count": 17,
   "metadata": {},
   "outputs": [],
   "source": [
    "dictionary_newsgroup = Dictionary(processed_texts_gensim)\n",
    "corpus_newsgroup = [dictionary_newsgroup.doc2bow(doc) for doc in processed_texts_gensim]"
   ]
  },
  {
   "cell_type": "markdown",
   "metadata": {},
   "source": [
    "Lanzamos un LDA con un num de tpoic igual al de dataset, porque deberia poder clasificar como minimo estos 4."
   ]
  },
  {
   "cell_type": "code",
   "execution_count": 18,
   "metadata": {},
   "outputs": [],
   "source": [
    "num_topics = 4\n",
    "\n",
    "lda_model_newsgroup = LdaModel(\n",
    "    corpus=corpus_newsgroup,\n",
    "    id2word=dictionary_newsgroup,\n",
    "    num_topics=num_topics,\n",
    "    passes=10\n",
    ")"
   ]
  },
  {
   "cell_type": "code",
   "execution_count": 19,
   "metadata": {},
   "outputs": [
    {
     "data": {
      "text/html": [
       "<div>\n",
       "<style scoped>\n",
       "    .dataframe tbody tr th:only-of-type {\n",
       "        vertical-align: middle;\n",
       "    }\n",
       "\n",
       "    .dataframe tbody tr th {\n",
       "        vertical-align: top;\n",
       "    }\n",
       "\n",
       "    .dataframe thead th {\n",
       "        text-align: right;\n",
       "    }\n",
       "</style>\n",
       "<table border=\"1\" class=\"dataframe\">\n",
       "  <thead>\n",
       "    <tr style=\"text-align: right;\">\n",
       "      <th></th>\n",
       "      <th>Topic #01</th>\n",
       "      <th>Topic #02</th>\n",
       "      <th>Topic #03</th>\n",
       "      <th>Topic #04</th>\n",
       "    </tr>\n",
       "  </thead>\n",
       "  <tbody>\n",
       "    <tr>\n",
       "      <td>0</td>\n",
       "      <td>like</td>\n",
       "      <td>water</td>\n",
       "      <td>like</td>\n",
       "      <td>printer</td>\n",
       "    </tr>\n",
       "    <tr>\n",
       "      <td>1</td>\n",
       "      <td>great</td>\n",
       "      <td>product</td>\n",
       "      <td>great</td>\n",
       "      <td>paper</td>\n",
       "    </tr>\n",
       "    <tr>\n",
       "      <td>2</td>\n",
       "      <td>feeder</td>\n",
       "      <td>like</td>\n",
       "      <td>good</td>\n",
       "      <td>like</td>\n",
       "    </tr>\n",
       "    <tr>\n",
       "      <td>3</td>\n",
       "      <td>sound</td>\n",
       "      <td>battery</td>\n",
       "      <td>guitar</td>\n",
       "      <td>tape</td>\n",
       "    </tr>\n",
       "    <tr>\n",
       "      <td>4</td>\n",
       "      <td>good</td>\n",
       "      <td>trap</td>\n",
       "      <td>nice</td>\n",
       "      <td>print</td>\n",
       "    </tr>\n",
       "    <tr>\n",
       "      <td>5</td>\n",
       "      <td>strings</td>\n",
       "      <td>time</td>\n",
       "      <td>easy</td>\n",
       "      <td>time</td>\n",
       "    </tr>\n",
       "    <tr>\n",
       "      <td>6</td>\n",
       "      <td>pedal</td>\n",
       "      <td>hose</td>\n",
       "      <td>little</td>\n",
       "      <td>great</td>\n",
       "    </tr>\n",
       "    <tr>\n",
       "      <td>7</td>\n",
       "      <td>clean</td>\n",
       "      <td>easy</td>\n",
       "      <td>quality</td>\n",
       "      <td>easy</td>\n",
       "    </tr>\n",
       "    <tr>\n",
       "      <td>8</td>\n",
       "      <td>product</td>\n",
       "      <td>work</td>\n",
       "      <td>price</td>\n",
       "      <td>good</td>\n",
       "    </tr>\n",
       "    <tr>\n",
       "      <td>9</td>\n",
       "      <td>guitar</td>\n",
       "      <td>little</td>\n",
       "      <td>works</td>\n",
       "      <td>quality</td>\n",
       "    </tr>\n",
       "    <tr>\n",
       "      <td>10</td>\n",
       "      <td>time</td>\n",
       "      <td>good</td>\n",
       "      <td>plastic</td>\n",
       "      <td>labels</td>\n",
       "    </tr>\n",
       "    <tr>\n",
       "      <td>11</td>\n",
       "      <td>better</td>\n",
       "      <td>small</td>\n",
       "      <td>hold</td>\n",
       "      <td>need</td>\n",
       "    </tr>\n",
       "    <tr>\n",
       "      <td>12</td>\n",
       "      <td>grill</td>\n",
       "      <td>garden</td>\n",
       "      <td>need</td>\n",
       "      <td>color</td>\n",
       "    </tr>\n",
       "    <tr>\n",
       "      <td>13</td>\n",
       "      <td>price</td>\n",
       "      <td>works</td>\n",
       "      <td>work</td>\n",
       "      <td>product</td>\n",
       "    </tr>\n",
       "    <tr>\n",
       "      <td>14</td>\n",
       "      <td>little</td>\n",
       "      <td>mouse</td>\n",
       "      <td>heavy</td>\n",
       "      <td>work</td>\n",
       "    </tr>\n",
       "  </tbody>\n",
       "</table>\n",
       "</div>"
      ],
      "text/plain": [
       "   Topic #01 Topic #02 Topic #03 Topic #04\n",
       "0       like     water      like   printer\n",
       "1      great   product     great     paper\n",
       "2     feeder      like      good      like\n",
       "3      sound   battery    guitar      tape\n",
       "4       good      trap      nice     print\n",
       "5    strings      time      easy      time\n",
       "6      pedal      hose    little     great\n",
       "7      clean      easy   quality      easy\n",
       "8    product      work     price      good\n",
       "9     guitar    little     works   quality\n",
       "10      time      good   plastic    labels\n",
       "11    better     small      hold      need\n",
       "12     grill    garden      need     color\n",
       "13     price     works      work   product\n",
       "14    little     mouse     heavy      work"
      ]
     },
     "execution_count": 19,
     "metadata": {},
     "output_type": "execute_result"
    }
   ],
   "source": [
    "word_dict = {};\n",
    "for i in range(num_topics):\n",
    "    words = lda_model_newsgroup.show_topic(i, topn = 15)\n",
    "    word_dict['Topic #' + '{:02d}'.format(i+1)] = [i[0] for i in words]\n",
    "pd.DataFrame(word_dict)"
   ]
  },
  {
   "cell_type": "markdown",
   "metadata": {},
   "source": [
    "Se puede comprobar que no se hace una clasificación clara.\n",
    "\n",
    "Por ejemplo, en el topic uno podriamos decir que pertenece al datset de oficina, pues hay palabras como impresora, papel, calidad, product, price.... Pero tambien hay palabras de este tema como por ejemplo raton presente en otros topics.\n",
    "En el topic 2, hay bastante palabras que nos pueden decir que pertenece al dataset de musica \n",
    "El topic 3, no esta muy claro.\n",
    "El topic 4 tiene varias palabras que hacen referencia a tema de automotive.\n",
    "\n",
    "Vemos que hari varios topics que se pueden asemejar a nuestros dataset, salvo el de garden que tiene palabras qen varios topics."
   ]
  },
  {
   "cell_type": "markdown",
   "metadata": {},
   "source": [
    "Vamos a realizar un preoprocesado del texto mayor. "
   ]
  },
  {
   "cell_type": "code",
   "execution_count": 20,
   "metadata": {},
   "outputs": [],
   "source": [
    "def text_normalizer(text, lemmatize=False, sw_list=None):\n",
    "    \n",
    "    processed_text = []\n",
    "    \n",
    "    if sw_list is None:\n",
    "        sw_list = []\n",
    "    \n",
    "    if lemmatize:\n",
    "        lemmas_dict = get_lemmas_dict(data_path, lemmas_dict_file)\n",
    "    \n",
    "    # Convierte el texto a minúsuculas, y eliminamos espacios\n",
    "    text = text.lower().strip()\n",
    "    \n",
    "    # Eliminar caracteres \"extraños\"\n",
    "    text = unicodedata.normalize('NFKD', text).encode('ascii', 'ignore').decode('utf-8', 'ignore')\n",
    "    \n",
    "    # Tabla para eliminar signos de puntuación\n",
    "    table = str.maketrans('', '', string.punctuation)\n",
    "    \n",
    "    # Segmentar texto en frases\n",
    "    sentences = text.split('.')\n",
    "    \n",
    "    # Para cada frase\n",
    "    for sentence in sentences:\n",
    "        sentence = ' '.join(sentence.split())\n",
    "        words = sentence.split(' ')\n",
    "        # Para cada palabra\n",
    "        for word in words:\n",
    "            if word not in string.punctuation and word not in sw_list:  # Si se pasa, elimina stop words\n",
    "                word = word.translate(table)\n",
    "                if lemmatize:\n",
    "                    word = lemmas_dict.get(word, word)\n",
    "                if word.isdigit():\n",
    "                    word = num2words(word, lang='es')\n",
    "            processed_text.append(word)\n",
    "    \n",
    "        \n",
    "    \n",
    "    return ' '.join(processed_text)"
   ]
  },
  {
   "cell_type": "code",
   "execution_count": 21,
   "metadata": {},
   "outputs": [],
   "source": [
    "import unicodedata\n",
    "\n",
    "import string\n",
    "\n",
    "from num2words import num2words\n",
    "\n"
   ]
  },
  {
   "cell_type": "code",
   "execution_count": 22,
   "metadata": {},
   "outputs": [],
   "source": [
    "processed_texts_pipeline = []\n",
    "for text in df_final['reviewText']:\n",
    "    processed_texts_pipeline.append(text_normalizer(text))"
   ]
  },
  {
   "cell_type": "code",
   "execution_count": 23,
   "metadata": {},
   "outputs": [],
   "source": [
    "result = []\n",
    "for sentence in processed_texts_pipeline:\n",
    "    list_aux = []\n",
    "    for word in sentence.split():\n",
    "        list_aux.append(word)\n",
    "    result.append(list_aux)"
   ]
  },
  {
   "cell_type": "code",
   "execution_count": 24,
   "metadata": {},
   "outputs": [],
   "source": [
    "#Necesitamos un diccionario con un numero asociado a cada palabra\n",
    "dictionary = Dictionary(result)"
   ]
  },
  {
   "cell_type": "code",
   "execution_count": 25,
   "metadata": {},
   "outputs": [],
   "source": [
    "dictionary2 = Dictionary(result)\n",
    "corpus2 = [dictionary2.doc2bow(doc) for doc in result]"
   ]
  },
  {
   "cell_type": "code",
   "execution_count": 26,
   "metadata": {},
   "outputs": [],
   "source": [
    "num_topics2 = 4\n",
    "\n",
    "lda_model2 = LdaModel(\n",
    "    corpus=corpus2,\n",
    "    id2word=dictionary2,\n",
    "    num_topics=num_topics2,\n",
    "    iterations=5,\n",
    "    passes=10,\n",
    "    alpha='auto'\n",
    ")"
   ]
  },
  {
   "cell_type": "code",
   "execution_count": 27,
   "metadata": {},
   "outputs": [
    {
     "data": {
      "text/plain": [
       "[(0,\n",
       "  '0.055*\"the\" + 0.031*\"to\" + 0.024*\"a\" + 0.023*\"and\" + 0.019*\"is\" + 0.017*\"of\" + 0.014*\"i\" + 0.014*\"for\" + 0.013*\"you\" + 0.012*\"that\"'),\n",
       " (1,\n",
       "  '0.059*\"the\" + 0.034*\"to\" + 0.028*\"and\" + 0.027*\"i\" + 0.025*\"it\" + 0.022*\"a\" + 0.018*\"of\" + 0.016*\"in\" + 0.014*\"this\" + 0.011*\"have\"'),\n",
       " (2,\n",
       "  '0.053*\"i\" + 0.035*\"and\" + 0.028*\"a\" + 0.020*\"the\" + 0.020*\"for\" + 0.019*\"my\" + 0.018*\"to\" + 0.014*\"they\" + 0.014*\"these\" + 0.013*\"it\"'),\n",
       " (3,\n",
       "  '0.078*\"the\" + 0.035*\"it\" + 0.032*\"a\" + 0.030*\"to\" + 0.030*\"is\" + 0.025*\"and\" + 0.017*\"of\" + 0.017*\"this\" + 0.015*\"you\" + 0.013*\"on\"')]"
      ]
     },
     "execution_count": 27,
     "metadata": {},
     "output_type": "execute_result"
    }
   ],
   "source": [
    "lda_model2.show_topics()"
   ]
  },
  {
   "cell_type": "code",
   "execution_count": 28,
   "metadata": {},
   "outputs": [
    {
     "data": {
      "text/html": [
       "<div>\n",
       "<style scoped>\n",
       "    .dataframe tbody tr th:only-of-type {\n",
       "        vertical-align: middle;\n",
       "    }\n",
       "\n",
       "    .dataframe tbody tr th {\n",
       "        vertical-align: top;\n",
       "    }\n",
       "\n",
       "    .dataframe thead th {\n",
       "        text-align: right;\n",
       "    }\n",
       "</style>\n",
       "<table border=\"1\" class=\"dataframe\">\n",
       "  <thead>\n",
       "    <tr style=\"text-align: right;\">\n",
       "      <th></th>\n",
       "      <th>Topic #01</th>\n",
       "      <th>Topic #02</th>\n",
       "      <th>Topic #03</th>\n",
       "      <th>Topic #04</th>\n",
       "    </tr>\n",
       "  </thead>\n",
       "  <tbody>\n",
       "    <tr>\n",
       "      <td>0</td>\n",
       "      <td>the</td>\n",
       "      <td>the</td>\n",
       "      <td>i</td>\n",
       "      <td>the</td>\n",
       "    </tr>\n",
       "    <tr>\n",
       "      <td>1</td>\n",
       "      <td>to</td>\n",
       "      <td>to</td>\n",
       "      <td>and</td>\n",
       "      <td>it</td>\n",
       "    </tr>\n",
       "    <tr>\n",
       "      <td>2</td>\n",
       "      <td>a</td>\n",
       "      <td>and</td>\n",
       "      <td>a</td>\n",
       "      <td>a</td>\n",
       "    </tr>\n",
       "    <tr>\n",
       "      <td>3</td>\n",
       "      <td>and</td>\n",
       "      <td>i</td>\n",
       "      <td>the</td>\n",
       "      <td>to</td>\n",
       "    </tr>\n",
       "    <tr>\n",
       "      <td>4</td>\n",
       "      <td>is</td>\n",
       "      <td>it</td>\n",
       "      <td>for</td>\n",
       "      <td>is</td>\n",
       "    </tr>\n",
       "    <tr>\n",
       "      <td>5</td>\n",
       "      <td>of</td>\n",
       "      <td>a</td>\n",
       "      <td>my</td>\n",
       "      <td>and</td>\n",
       "    </tr>\n",
       "    <tr>\n",
       "      <td>6</td>\n",
       "      <td>i</td>\n",
       "      <td>of</td>\n",
       "      <td>to</td>\n",
       "      <td>of</td>\n",
       "    </tr>\n",
       "    <tr>\n",
       "      <td>7</td>\n",
       "      <td>for</td>\n",
       "      <td>in</td>\n",
       "      <td>they</td>\n",
       "      <td>this</td>\n",
       "    </tr>\n",
       "    <tr>\n",
       "      <td>8</td>\n",
       "      <td>you</td>\n",
       "      <td>this</td>\n",
       "      <td>these</td>\n",
       "      <td>you</td>\n",
       "    </tr>\n",
       "    <tr>\n",
       "      <td>9</td>\n",
       "      <td>that</td>\n",
       "      <td>have</td>\n",
       "      <td>it</td>\n",
       "      <td>on</td>\n",
       "    </tr>\n",
       "    <tr>\n",
       "      <td>10</td>\n",
       "      <td>it</td>\n",
       "      <td>that</td>\n",
       "      <td>are</td>\n",
       "      <td>that</td>\n",
       "    </tr>\n",
       "    <tr>\n",
       "      <td>11</td>\n",
       "      <td>this</td>\n",
       "      <td>is</td>\n",
       "      <td>of</td>\n",
       "      <td>in</td>\n",
       "    </tr>\n",
       "    <tr>\n",
       "      <td>12</td>\n",
       "      <td>with</td>\n",
       "      <td>so</td>\n",
       "      <td>this</td>\n",
       "      <td>for</td>\n",
       "    </tr>\n",
       "    <tr>\n",
       "      <td>13</td>\n",
       "      <td>in</td>\n",
       "      <td>we</td>\n",
       "      <td>but</td>\n",
       "      <td>with</td>\n",
       "    </tr>\n",
       "    <tr>\n",
       "      <td>14</td>\n",
       "      <td>on</td>\n",
       "      <td>my</td>\n",
       "      <td>on</td>\n",
       "      <td>i</td>\n",
       "    </tr>\n",
       "  </tbody>\n",
       "</table>\n",
       "</div>"
      ],
      "text/plain": [
       "   Topic #01 Topic #02 Topic #03 Topic #04\n",
       "0        the       the         i       the\n",
       "1         to        to       and        it\n",
       "2          a       and         a         a\n",
       "3        and         i       the        to\n",
       "4         is        it       for        is\n",
       "5         of         a        my       and\n",
       "6          i        of        to        of\n",
       "7        for        in      they      this\n",
       "8        you      this     these       you\n",
       "9       that      have        it        on\n",
       "10        it      that       are      that\n",
       "11      this        is        of        in\n",
       "12      with        so      this       for\n",
       "13        in        we       but      with\n",
       "14        on        my        on         i"
      ]
     },
     "execution_count": 28,
     "metadata": {},
     "output_type": "execute_result"
    }
   ],
   "source": [
    "word_dict2 = {};\n",
    "for i in range(num_topics2):\n",
    "    words = lda_model2.show_topic(i, topn = 15)\n",
    "    word_dict2['Topic #' + '{:02d}'.format(i+1)] = [i[0] for i in words]\n",
    "pd.DataFrame(word_dict2)"
   ]
  },
  {
   "cell_type": "markdown",
   "metadata": {},
   "source": [
    "Aqui vemos claramente que al no eliminar ninguna stop word, el dataset nos nos clasifica nada.\n",
    "\n",
    "Vamos a hacer lo mismo, pero eliminadno aquellas palabras con longitud menor de 3, para ver si podemos sacar algo en claro."
   ]
  },
  {
   "cell_type": "code",
   "execution_count": 291,
   "metadata": {},
   "outputs": [],
   "source": [
    "#Eliminamos las palabras con length menor de 3"
   ]
  },
  {
   "cell_type": "code",
   "execution_count": 29,
   "metadata": {},
   "outputs": [],
   "source": [
    "result_len3 = []\n",
    "for sentence in processed_texts_pipeline:\n",
    "    list_aux = []\n",
    "    for word in sentence.split():\n",
    "        if len(word) > 3:\n",
    "            list_aux.append(word)\n",
    "    result_len3.append(list_aux)"
   ]
  },
  {
   "cell_type": "code",
   "execution_count": 30,
   "metadata": {},
   "outputs": [
    {
     "data": {
      "text/plain": [
       "40000"
      ]
     },
     "execution_count": 30,
     "metadata": {},
     "output_type": "execute_result"
    }
   ],
   "source": [
    "len(result_len3)"
   ]
  },
  {
   "cell_type": "code",
   "execution_count": 31,
   "metadata": {},
   "outputs": [],
   "source": [
    "dictionary3 = Dictionary(result_len3)"
   ]
  },
  {
   "cell_type": "code",
   "execution_count": 32,
   "metadata": {},
   "outputs": [],
   "source": [
    "corpus3 = [dictionary3.doc2bow(doc) for doc in result_len3]"
   ]
  },
  {
   "cell_type": "code",
   "execution_count": 33,
   "metadata": {},
   "outputs": [],
   "source": [
    "num_topics = 4\n",
    "\n",
    "lda_model3 = LdaModel(\n",
    "    corpus=corpus3,\n",
    "    id2word=dictionary3,\n",
    "    num_topics=num_topics,\n",
    "    iterations=5,\n",
    "    passes=10,\n",
    "    alpha='auto'\n",
    ")"
   ]
  },
  {
   "cell_type": "code",
   "execution_count": 34,
   "metadata": {},
   "outputs": [
    {
     "data": {
      "text/plain": [
       "[(0,\n",
       "  '0.022*\"that\" + 0.019*\"they\" + 0.017*\"these\" + 0.015*\"this\" + 0.014*\"with\" + 0.013*\"them\" + 0.012*\"have\" + 0.009*\"like\" + 0.008*\"very\" + 0.006*\"would\"'),\n",
       " (1,\n",
       "  '0.031*\"this\" + 0.018*\"with\" + 0.015*\"that\" + 0.013*\"have\" + 0.012*\"great\" + 0.011*\"good\" + 0.009*\"very\" + 0.009*\"just\" + 0.008*\"like\" + 0.008*\"well\"'),\n",
       " (2,\n",
       "  '0.026*\"this\" + 0.018*\"that\" + 0.017*\"have\" + 0.014*\"with\" + 0.008*\"will\" + 0.006*\"water\" + 0.006*\"when\" + 0.006*\"from\" + 0.006*\"product\" + 0.005*\"after\"'),\n",
       " (3,\n",
       "  '0.020*\"this\" + 0.020*\"that\" + 0.017*\"with\" + 0.012*\"have\" + 0.011*\"printer\" + 0.008*\"from\" + 0.005*\"print\" + 0.005*\"which\" + 0.005*\"your\" + 0.005*\"paper\"')]"
      ]
     },
     "execution_count": 34,
     "metadata": {},
     "output_type": "execute_result"
    }
   ],
   "source": [
    "lda_model3.show_topics()"
   ]
  },
  {
   "cell_type": "code",
   "execution_count": 35,
   "metadata": {},
   "outputs": [
    {
     "data": {
      "text/html": [
       "<div>\n",
       "<style scoped>\n",
       "    .dataframe tbody tr th:only-of-type {\n",
       "        vertical-align: middle;\n",
       "    }\n",
       "\n",
       "    .dataframe tbody tr th {\n",
       "        vertical-align: top;\n",
       "    }\n",
       "\n",
       "    .dataframe thead th {\n",
       "        text-align: right;\n",
       "    }\n",
       "</style>\n",
       "<table border=\"1\" class=\"dataframe\">\n",
       "  <thead>\n",
       "    <tr style=\"text-align: right;\">\n",
       "      <th></th>\n",
       "      <th>Topic #01</th>\n",
       "      <th>Topic #02</th>\n",
       "      <th>Topic #03</th>\n",
       "      <th>Topic #04</th>\n",
       "    </tr>\n",
       "  </thead>\n",
       "  <tbody>\n",
       "    <tr>\n",
       "      <td>0</td>\n",
       "      <td>that</td>\n",
       "      <td>this</td>\n",
       "      <td>this</td>\n",
       "      <td>this</td>\n",
       "    </tr>\n",
       "    <tr>\n",
       "      <td>1</td>\n",
       "      <td>they</td>\n",
       "      <td>with</td>\n",
       "      <td>that</td>\n",
       "      <td>that</td>\n",
       "    </tr>\n",
       "    <tr>\n",
       "      <td>2</td>\n",
       "      <td>these</td>\n",
       "      <td>that</td>\n",
       "      <td>have</td>\n",
       "      <td>with</td>\n",
       "    </tr>\n",
       "    <tr>\n",
       "      <td>3</td>\n",
       "      <td>this</td>\n",
       "      <td>have</td>\n",
       "      <td>with</td>\n",
       "      <td>have</td>\n",
       "    </tr>\n",
       "    <tr>\n",
       "      <td>4</td>\n",
       "      <td>with</td>\n",
       "      <td>great</td>\n",
       "      <td>will</td>\n",
       "      <td>printer</td>\n",
       "    </tr>\n",
       "    <tr>\n",
       "      <td>5</td>\n",
       "      <td>them</td>\n",
       "      <td>good</td>\n",
       "      <td>water</td>\n",
       "      <td>from</td>\n",
       "    </tr>\n",
       "    <tr>\n",
       "      <td>6</td>\n",
       "      <td>have</td>\n",
       "      <td>very</td>\n",
       "      <td>when</td>\n",
       "      <td>print</td>\n",
       "    </tr>\n",
       "    <tr>\n",
       "      <td>7</td>\n",
       "      <td>like</td>\n",
       "      <td>just</td>\n",
       "      <td>from</td>\n",
       "      <td>which</td>\n",
       "    </tr>\n",
       "    <tr>\n",
       "      <td>8</td>\n",
       "      <td>very</td>\n",
       "      <td>like</td>\n",
       "      <td>product</td>\n",
       "      <td>your</td>\n",
       "    </tr>\n",
       "    <tr>\n",
       "      <td>9</td>\n",
       "      <td>would</td>\n",
       "      <td>well</td>\n",
       "      <td>after</td>\n",
       "      <td>paper</td>\n",
       "    </tr>\n",
       "    <tr>\n",
       "      <td>10</td>\n",
       "      <td>well</td>\n",
       "      <td>these</td>\n",
       "      <td>just</td>\n",
       "      <td>when</td>\n",
       "    </tr>\n",
       "    <tr>\n",
       "      <td>11</td>\n",
       "      <td>easy</td>\n",
       "      <td>your</td>\n",
       "      <td>time</td>\n",
       "      <td>will</td>\n",
       "    </tr>\n",
       "    <tr>\n",
       "      <td>12</td>\n",
       "      <td>just</td>\n",
       "      <td>price</td>\n",
       "      <td>about</td>\n",
       "      <td>there</td>\n",
       "    </tr>\n",
       "    <tr>\n",
       "      <td>13</td>\n",
       "      <td>when</td>\n",
       "      <td>guitar</td>\n",
       "      <td>battery</td>\n",
       "      <td>only</td>\n",
       "    </tr>\n",
       "    <tr>\n",
       "      <td>14</td>\n",
       "      <td>will</td>\n",
       "      <td>more</td>\n",
       "      <td>trap</td>\n",
       "      <td>very</td>\n",
       "    </tr>\n",
       "  </tbody>\n",
       "</table>\n",
       "</div>"
      ],
      "text/plain": [
       "   Topic #01 Topic #02 Topic #03 Topic #04\n",
       "0       that      this      this      this\n",
       "1       they      with      that      that\n",
       "2      these      that      have      with\n",
       "3       this      have      with      have\n",
       "4       with     great      will   printer\n",
       "5       them      good     water      from\n",
       "6       have      very      when     print\n",
       "7       like      just      from     which\n",
       "8       very      like   product      your\n",
       "9      would      well     after     paper\n",
       "10      well     these      just      when\n",
       "11      easy      your      time      will\n",
       "12      just     price     about     there\n",
       "13      when    guitar   battery      only\n",
       "14      will      more      trap      very"
      ]
     },
     "execution_count": 35,
     "metadata": {},
     "output_type": "execute_result"
    }
   ],
   "source": [
    "word_dict3 = {};\n",
    "for i in range(num_topics2):\n",
    "    words = lda_model3.show_topic(i, topn = 15)\n",
    "    word_dict3['Topic #' + '{:02d}'.format(i+1)] = [i[0] for i in words]\n",
    "pd.DataFrame(word_dict3)"
   ]
  },
  {
   "cell_type": "markdown",
   "metadata": {},
   "source": [
    "Vemos que hemos mejorado algo el modelo, pero aun nos esta poniendo palabras que no nos aportan nada. Por lo que, vamos a crear una lista de stop words con aquellas palabras que mas se repiten en el dataset."
   ]
  },
  {
   "cell_type": "code",
   "execution_count": 73,
   "metadata": {},
   "outputs": [],
   "source": [
    "from collections import Counter\n",
    "\n",
    "words = []\n",
    "for sentence in processed_texts_pipeline:\n",
    "    for word in sentence.split():\n",
    "        words.append(word)\n",
    "\n",
    "counter_obj = Counter(words)\n",
    "\n",
    "stop_words_count = counter_obj.most_common(n=60)"
   ]
  },
  {
   "cell_type": "code",
   "execution_count": 74,
   "metadata": {},
   "outputs": [],
   "source": [
    "words = [w[0] for w in stop_words_count]\n",
    "freqs = [w[1] for w in stop_words_count]"
   ]
  },
  {
   "cell_type": "code",
   "execution_count": 75,
   "metadata": {},
   "outputs": [],
   "source": [
    "freqs, words = zip(*sorted(zip(freqs, words)))"
   ]
  },
  {
   "cell_type": "code",
   "execution_count": 76,
   "metadata": {},
   "outputs": [
    {
     "data": {
      "image/png": "[encoded data removed]",
      "text/plain": [
       "<Figure size 432x288 with 1 Axes>"
      ]
     },
     "metadata": {
      "needs_background": "light"
     },
     "output_type": "display_data"
    }
   ],
   "source": [
    "plt.barh(words, freqs)\n",
    "plt.show()"
   ]
  },
  {
   "cell_type": "code",
   "execution_count": 77,
   "metadata": {},
   "outputs": [
    {
     "data": {
      "text/plain": [
       "('some',\n",
       " 'easy',\n",
       " 'other',\n",
       " 'about',\n",
       " 'do',\n",
       " 'no',\n",
       " 'has',\n",
       " 'than',\n",
       " 'had',\n",
       " 'get',\n",
       " 'an',\n",
       " 'would',\n",
       " 'good',\n",
       " 'great',\n",
       " 'your',\n",
       " 'more',\n",
       " 'well',\n",
       " 'from',\n",
       " 'them',\n",
       " 'when',\n",
       " 'all',\n",
       " 'out',\n",
       " 'at',\n",
       " 'up',\n",
       " 'will',\n",
       " 'just',\n",
       " 'like',\n",
       " 'very',\n",
       " 'can',\n",
       " 'these',\n",
       " 'its',\n",
       " 'if',\n",
       " 'one',\n",
       " 'use',\n",
       " 'or',\n",
       " 'they',\n",
       " 'was',\n",
       " 'be',\n",
       " 'so',\n",
       " 'as',\n",
       " 'are',\n",
       " 'not',\n",
       " 'but',\n",
       " 'have',\n",
       " 'my',\n",
       " 'with',\n",
       " 'on',\n",
       " 'you',\n",
       " 'that',\n",
       " 'in',\n",
       " 'for',\n",
       " 'this',\n",
       " 'of',\n",
       " 'is',\n",
       " 'it',\n",
       " 'i',\n",
       " 'a',\n",
       " 'and',\n",
       " 'to',\n",
       " 'the')"
      ]
     },
     "execution_count": 77,
     "metadata": {},
     "output_type": "execute_result"
    }
   ],
   "source": [
    "words"
   ]
  },
  {
   "cell_type": "markdown",
   "metadata": {},
   "source": [
    "He probado con la visualizacion desde n = 10, hasta 50 y aunque lo ideal seria ir poco a poco voy a quitar las 50  "
   ]
  },
  {
   "cell_type": "code",
   "execution_count": 79,
   "metadata": {},
   "outputs": [],
   "source": [
    "result_stop = []\n",
    "for sentence in processed_texts_pipeline:\n",
    "    list_aux = []\n",
    "    for word in sentence.split():\n",
    "        if word not in words:\n",
    "            if len(word) > 3 not in words:\n",
    "                list_aux.append(word)\n",
    "    result_stop.append(list_aux)"
   ]
  },
  {
   "cell_type": "code",
   "execution_count": 80,
   "metadata": {},
   "outputs": [],
   "source": [
    "dictionary4 = Dictionary(result_stop)"
   ]
  },
  {
   "cell_type": "code",
   "execution_count": 81,
   "metadata": {},
   "outputs": [],
   "source": [
    "corpus4 = [dictionary4.doc2bow(doc) for doc in result_stop]"
   ]
  },
  {
   "cell_type": "code",
   "execution_count": 82,
   "metadata": {},
   "outputs": [],
   "source": [
    "num_topics4 = 4\n",
    "\n",
    "lda_model4 = LdaModel(\n",
    "    corpus=corpus4,\n",
    "    id2word=dictionary4,\n",
    "    num_topics=num_topics4,\n",
    "    iterations=5,\n",
    "    passes=10,\n",
    "    alpha='auto'\n",
    ")"
   ]
  },
  {
   "cell_type": "code",
   "execution_count": 83,
   "metadata": {},
   "outputs": [
    {
     "data": {
      "text/plain": [
       "[(0,\n",
       "  '0.008*\"product\" + 0.007*\"water\" + 0.007*\"feeder\" + 0.006*\"after\" + 0.006*\"trap\" + 0.006*\"used\" + 0.005*\"time\" + 0.005*\"hose\" + 0.005*\"there\" + 0.005*\"dont\"'),\n",
       " (1,\n",
       "  '0.006*\"nice\" + 0.006*\"tape\" + 0.005*\"also\" + 0.005*\"paper\" + 0.005*\"product\" + 0.005*\"easily\" + 0.005*\"which\" + 0.005*\"hold\" + 0.005*\"really\" + 0.005*\"size\"'),\n",
       " (2,\n",
       "  '0.012*\"printer\" + 0.007*\"battery\" + 0.006*\"unit\" + 0.006*\"print\" + 0.006*\"power\" + 0.005*\"cinco\" + 0.005*\"time\" + 0.005*\"which\" + 0.005*\"only\" + 0.004*\"also\"'),\n",
       " (3,\n",
       "  '0.009*\"guitar\" + 0.008*\"price\" + 0.006*\"sound\" + 0.006*\"bought\" + 0.006*\"works\" + 0.006*\"really\" + 0.006*\"what\" + 0.006*\"much\" + 0.006*\"strings\" + 0.006*\"quality\"')]"
      ]
     },
     "execution_count": 83,
     "metadata": {},
     "output_type": "execute_result"
    }
   ],
   "source": [
    "lda_model4.show_topics()"
   ]
  },
  {
   "cell_type": "code",
   "execution_count": 84,
   "metadata": {},
   "outputs": [
    {
     "data": {
      "text/html": [
       "<div>\n",
       "<style scoped>\n",
       "    .dataframe tbody tr th:only-of-type {\n",
       "        vertical-align: middle;\n",
       "    }\n",
       "\n",
       "    .dataframe tbody tr th {\n",
       "        vertical-align: top;\n",
       "    }\n",
       "\n",
       "    .dataframe thead th {\n",
       "        text-align: right;\n",
       "    }\n",
       "</style>\n",
       "<table border=\"1\" class=\"dataframe\">\n",
       "  <thead>\n",
       "    <tr style=\"text-align: right;\">\n",
       "      <th></th>\n",
       "      <th>Topic #01</th>\n",
       "      <th>Topic #02</th>\n",
       "      <th>Topic #03</th>\n",
       "      <th>Topic #04</th>\n",
       "    </tr>\n",
       "  </thead>\n",
       "  <tbody>\n",
       "    <tr>\n",
       "      <td>0</td>\n",
       "      <td>product</td>\n",
       "      <td>nice</td>\n",
       "      <td>printer</td>\n",
       "      <td>guitar</td>\n",
       "    </tr>\n",
       "    <tr>\n",
       "      <td>1</td>\n",
       "      <td>water</td>\n",
       "      <td>tape</td>\n",
       "      <td>battery</td>\n",
       "      <td>price</td>\n",
       "    </tr>\n",
       "    <tr>\n",
       "      <td>2</td>\n",
       "      <td>feeder</td>\n",
       "      <td>also</td>\n",
       "      <td>unit</td>\n",
       "      <td>sound</td>\n",
       "    </tr>\n",
       "    <tr>\n",
       "      <td>3</td>\n",
       "      <td>after</td>\n",
       "      <td>paper</td>\n",
       "      <td>print</td>\n",
       "      <td>bought</td>\n",
       "    </tr>\n",
       "    <tr>\n",
       "      <td>4</td>\n",
       "      <td>trap</td>\n",
       "      <td>product</td>\n",
       "      <td>power</td>\n",
       "      <td>works</td>\n",
       "    </tr>\n",
       "    <tr>\n",
       "      <td>5</td>\n",
       "      <td>used</td>\n",
       "      <td>easily</td>\n",
       "      <td>cinco</td>\n",
       "      <td>really</td>\n",
       "    </tr>\n",
       "    <tr>\n",
       "      <td>6</td>\n",
       "      <td>time</td>\n",
       "      <td>which</td>\n",
       "      <td>time</td>\n",
       "      <td>what</td>\n",
       "    </tr>\n",
       "    <tr>\n",
       "      <td>7</td>\n",
       "      <td>hose</td>\n",
       "      <td>hold</td>\n",
       "      <td>which</td>\n",
       "      <td>much</td>\n",
       "    </tr>\n",
       "    <tr>\n",
       "      <td>8</td>\n",
       "      <td>there</td>\n",
       "      <td>really</td>\n",
       "      <td>only</td>\n",
       "      <td>strings</td>\n",
       "    </tr>\n",
       "    <tr>\n",
       "      <td>9</td>\n",
       "      <td>dont</td>\n",
       "      <td>size</td>\n",
       "      <td>also</td>\n",
       "      <td>quality</td>\n",
       "    </tr>\n",
       "    <tr>\n",
       "      <td>10</td>\n",
       "      <td>around</td>\n",
       "      <td>plastic</td>\n",
       "      <td>cuatro</td>\n",
       "      <td>better</td>\n",
       "    </tr>\n",
       "    <tr>\n",
       "      <td>11</td>\n",
       "      <td>then</td>\n",
       "      <td>need</td>\n",
       "      <td>paper</td>\n",
       "      <td>dont</td>\n",
       "    </tr>\n",
       "    <tr>\n",
       "      <td>12</td>\n",
       "      <td>little</td>\n",
       "      <td>little</td>\n",
       "      <td>there</td>\n",
       "      <td>little</td>\n",
       "    </tr>\n",
       "    <tr>\n",
       "      <td>13</td>\n",
       "      <td>been</td>\n",
       "      <td>dont</td>\n",
       "      <td>quality</td>\n",
       "      <td>used</td>\n",
       "    </tr>\n",
       "    <tr>\n",
       "      <td>14</td>\n",
       "      <td>clean</td>\n",
       "      <td>there</td>\n",
       "      <td>need</td>\n",
       "      <td>pedal</td>\n",
       "    </tr>\n",
       "  </tbody>\n",
       "</table>\n",
       "</div>"
      ],
      "text/plain": [
       "   Topic #01 Topic #02 Topic #03 Topic #04\n",
       "0    product      nice   printer    guitar\n",
       "1      water      tape   battery     price\n",
       "2     feeder      also      unit     sound\n",
       "3      after     paper     print    bought\n",
       "4       trap   product     power     works\n",
       "5       used    easily     cinco    really\n",
       "6       time     which      time      what\n",
       "7       hose      hold     which      much\n",
       "8      there    really      only   strings\n",
       "9       dont      size      also   quality\n",
       "10    around   plastic    cuatro    better\n",
       "11      then      need     paper      dont\n",
       "12    little    little     there    little\n",
       "13      been      dont   quality      used\n",
       "14     clean     there      need     pedal"
      ]
     },
     "execution_count": 84,
     "metadata": {},
     "output_type": "execute_result"
    }
   ],
   "source": [
    "word_dict4 = {};\n",
    "for i in range(num_topics4):\n",
    "    words = lda_model4.show_topic(i, topn = 15)\n",
    "    word_dict4['Topic #' + '{:02d}'.format(i+1)] = [i[0] for i in words]\n",
    "pd.DataFrame(word_dict4)"
   ]
  },
  {
   "cell_type": "markdown",
   "metadata": {},
   "source": [
    "Vemos que el modelo ha mejorado algo respecto a los anteriores, pero no mucho respecto del primero. Podemos ver que hay diferencis entre topics, pero hay algunas palabras que se repiten entre ellos.\n",
    "\n",
    "Podríamos añadir más palabras a la lista de stop words o lemmatizar, tambien aumentar el numero de topics a ver si nos puede encontrar alguna relación. Pero, lo que haria yo serñia aumentar la lista de stop words."
   ]
  },
  {
   "cell_type": "code",
   "execution_count": 87,
   "metadata": {},
   "outputs": [
    {
     "name": "stderr",
     "output_type": "stream",
     "text": [
      "C:\\Users\\LBastos\\Anaconda3\\lib\\site-packages\\nltk\\decorators.py:68: DeprecationWarning: `formatargspec` is deprecated since Python 3.5. Use `signature` and the `Signature` object directly\n",
      "  regargs, varargs, varkwargs, defaults, formatvalue=lambda value: \"\"\n",
      "C:\\Users\\LBastos\\Anaconda3\\lib\\site-packages\\nltk\\lm\\counter.py:15: DeprecationWarning: Using or importing the ABCs from 'collections' instead of from 'collections.abc' is deprecated, and in 3.8 it will stop working\n",
      "  from collections import Sequence, defaultdict\n"
     ]
    }
   ],
   "source": [
    "# from sklearn.feature_extraction.text import CountVectorizer\n",
    "from nltk import ngrams\n",
    "from nltk.probability import FreqDist"
   ]
  },
  {
   "cell_type": "code",
   "execution_count": 91,
   "metadata": {},
   "outputs": [],
   "source": [
    "result_stop = []\n",
    "for sentence in processed_texts_pipeline:\n",
    "    for word in sentence.split():\n",
    "        if word not in words:\n",
    "            if len(word) > 3 not in words:\n",
    "                result_stop.append(word)\n"
   ]
  },
  {
   "cell_type": "code",
   "execution_count": 92,
   "metadata": {},
   "outputs": [],
   "source": [
    "bigrams_ = list(ngrams(result_stop, 2))\n",
    "trigrams_ = list(ngrams(result_stop, 3))"
   ]
  },
  {
   "cell_type": "code",
   "execution_count": 94,
   "metadata": {},
   "outputs": [],
   "source": [
    "bg_freq = FreqDist(bigrams_)\n",
    "tg_freq = FreqDist(trigrams_)"
   ]
  },
  {
   "cell_type": "code",
   "execution_count": 95,
   "metadata": {},
   "outputs": [],
   "source": [
    "bg_freq_most_common = bg_freq.most_common(10)\n",
    "bgs_ = [str(bg[0]) for bg in bg_freq_most_common]\n",
    "bgs_f_ = [bg[1] for bg in bg_freq_most_common]\n",
    "\n",
    "tg_freq_most_common = tg_freq.most_common(10)\n",
    "tgs_ = [str(tg[0]) for tg in tg_freq_most_common]\n",
    "tgs_f_ = [tg[1] for tg in tg_freq_most_common]"
   ]
  },
  {
   "cell_type": "code",
   "execution_count": 96,
   "metadata": {},
   "outputs": [],
   "source": [
    "bgs_f_, bgs_ = zip(*sorted(zip(bgs_f_, bgs_)))\n",
    "tgs_f_, tgs_ = zip(*sorted(zip(tgs_f_, tgs_)))"
   ]
  },
  {
   "cell_type": "code",
   "execution_count": 97,
   "metadata": {},
   "outputs": [
    {
     "data": {
      "image/png": "[encoded data removed]",
      "text/plain": [
       "<Figure size 432x288 with 1 Axes>"
      ]
     },
     "metadata": {
      "needs_background": "light"
     },
     "output_type": "display_data"
    }
   ],
   "source": [
    "plt.barh(bgs_, bgs_f_)\n",
    "plt.title('Bigram frequencies')\n",
    "plt.show()"
   ]
  },
  {
   "cell_type": "markdown",
   "metadata": {},
   "source": [
    "Podemos ver, que esos bigramas no nos afectaría mucho, por lo que tambien habría que añadirlos a la lista de stop words.\n",
    "\n",
    "No he querido seguir para no quedarme sin tiempo, he intentado empezar desde algo muy basico e ir construyendo hacia mas especifico.\n",
    "\n",
    "No he querido utilizar una lista de stop_words hecha (aunque en la de gensim si, para ver la diferencia),porque me parece más interesante que sea el programador el que analizando cada modelo decida que palabras eliminar, puesto que cada dataset o cada modelo es diferente."
   ]
  },
  {
   "cell_type": "markdown",
   "metadata": {},
   "source": [
    "## Análisis de sentimiento"
   ]
  },
  {
   "cell_type": "code",
   "execution_count": 98,
   "metadata": {},
   "outputs": [
    {
     "data": {
      "text/html": [
       "<div>\n",
       "<style scoped>\n",
       "    .dataframe tbody tr th:only-of-type {\n",
       "        vertical-align: middle;\n",
       "    }\n",
       "\n",
       "    .dataframe tbody tr th {\n",
       "        vertical-align: top;\n",
       "    }\n",
       "\n",
       "    .dataframe thead th {\n",
       "        text-align: right;\n",
       "    }\n",
       "</style>\n",
       "<table border=\"1\" class=\"dataframe\">\n",
       "  <thead>\n",
       "    <tr style=\"text-align: right;\">\n",
       "      <th></th>\n",
       "      <th>reviewerID</th>\n",
       "      <th>asin</th>\n",
       "      <th>reviewerName</th>\n",
       "      <th>helpful</th>\n",
       "      <th>reviewText</th>\n",
       "      <th>overall</th>\n",
       "      <th>summary</th>\n",
       "      <th>unixReviewTime</th>\n",
       "      <th>reviewTime</th>\n",
       "    </tr>\n",
       "  </thead>\n",
       "  <tbody>\n",
       "    <tr>\n",
       "      <td>41189</td>\n",
       "      <td>A2JXCOUGYS5Y4J</td>\n",
       "      <td>B007TRUWG4</td>\n",
       "      <td>anonymous</td>\n",
       "      <td>[0, 0]</td>\n",
       "      <td>Besides the benefit of having twice the erasin...</td>\n",
       "      <td>5</td>\n",
       "      <td>Comfortable to hold, extrudes well, affordable...</td>\n",
       "      <td>1350518400</td>\n",
       "      <td>10 18, 2012</td>\n",
       "    </tr>\n",
       "    <tr>\n",
       "      <td>44500</td>\n",
       "      <td>A2QR043WBXXX6L</td>\n",
       "      <td>B009QYH40U</td>\n",
       "      <td>Stephen Cunningham</td>\n",
       "      <td>[0, 1]</td>\n",
       "      <td>These pens are great.  Smooth writing, and I r...</td>\n",
       "      <td>5</td>\n",
       "      <td>Heads up Quilters!</td>\n",
       "      <td>1361923200</td>\n",
       "      <td>02 27, 2013</td>\n",
       "    </tr>\n",
       "    <tr>\n",
       "      <td>37849</td>\n",
       "      <td>A1RPJHUVVSI98A</td>\n",
       "      <td>B005HFJFKE</td>\n",
       "      <td>Justin Opinion</td>\n",
       "      <td>[5, 5]</td>\n",
       "      <td>I've had Epson and HP printers, and both have ...</td>\n",
       "      <td>5</td>\n",
       "      <td>Excellent quality and functionality at a good ...</td>\n",
       "      <td>1329609600</td>\n",
       "      <td>02 19, 2012</td>\n",
       "    </tr>\n",
       "    <tr>\n",
       "      <td>12647</td>\n",
       "      <td>AUS4IZFUU78TK</td>\n",
       "      <td>B0022ZF2ZO</td>\n",
       "      <td>Moe</td>\n",
       "      <td>[0, 0]</td>\n",
       "      <td>love this mount. works great and looks good to...</td>\n",
       "      <td>5</td>\n",
       "      <td>mount</td>\n",
       "      <td>1372118400</td>\n",
       "      <td>06 25, 2013</td>\n",
       "    </tr>\n",
       "    <tr>\n",
       "      <td>9831</td>\n",
       "      <td>AJZWAEYCF43WH</td>\n",
       "      <td>B008GS3XLQ</td>\n",
       "      <td>Norm</td>\n",
       "      <td>[0, 0]</td>\n",
       "      <td>It is okay. It serves the purpose. It is a goo...</td>\n",
       "      <td>3</td>\n",
       "      <td>Serves the purpose.</td>\n",
       "      <td>1389916800</td>\n",
       "      <td>01 17, 2014</td>\n",
       "    </tr>\n",
       "  </tbody>\n",
       "</table>\n",
       "</div>"
      ],
      "text/plain": [
       "           reviewerID        asin        reviewerName helpful  \\\n",
       "41189  A2JXCOUGYS5Y4J  B007TRUWG4           anonymous  [0, 0]   \n",
       "44500  A2QR043WBXXX6L  B009QYH40U  Stephen Cunningham  [0, 1]   \n",
       "37849  A1RPJHUVVSI98A  B005HFJFKE      Justin Opinion  [5, 5]   \n",
       "12647   AUS4IZFUU78TK  B0022ZF2ZO                 Moe  [0, 0]   \n",
       "9831    AJZWAEYCF43WH  B008GS3XLQ                Norm  [0, 0]   \n",
       "\n",
       "                                              reviewText  overall  \\\n",
       "41189  Besides the benefit of having twice the erasin...        5   \n",
       "44500  These pens are great.  Smooth writing, and I r...        5   \n",
       "37849  I've had Epson and HP printers, and both have ...        5   \n",
       "12647  love this mount. works great and looks good to...        5   \n",
       "9831   It is okay. It serves the purpose. It is a goo...        3   \n",
       "\n",
       "                                                 summary  unixReviewTime  \\\n",
       "41189  Comfortable to hold, extrudes well, affordable...      1350518400   \n",
       "44500                                 Heads up Quilters!      1361923200   \n",
       "37849  Excellent quality and functionality at a good ...      1329609600   \n",
       "12647                                              mount      1372118400   \n",
       "9831                                 Serves the purpose.      1389916800   \n",
       "\n",
       "        reviewTime  \n",
       "41189  10 18, 2012  \n",
       "44500  02 27, 2013  \n",
       "37849  02 19, 2012  \n",
       "12647  06 25, 2013  \n",
       "9831   01 17, 2014  "
      ]
     },
     "execution_count": 98,
     "metadata": {},
     "output_type": "execute_result"
    }
   ],
   "source": [
    "df_entero.head()"
   ]
  },
  {
   "cell_type": "code",
   "execution_count": 99,
   "metadata": {},
   "outputs": [
    {
     "data": {
      "text/plain": [
       "count    40000.000000\n",
       "mean         4.371100\n",
       "std          0.973195\n",
       "min          1.000000\n",
       "25%          4.000000\n",
       "50%          5.000000\n",
       "75%          5.000000\n",
       "max          5.000000\n",
       "Name: overall, dtype: float64"
      ]
     },
     "execution_count": 99,
     "metadata": {},
     "output_type": "execute_result"
    }
   ],
   "source": [
    "df_entero['overall'].describe()"
   ]
  },
  {
   "cell_type": "code",
   "execution_count": 110,
   "metadata": {},
   "outputs": [],
   "source": [
    "\n",
    "df = pd.DataFrame(df_entero, columns = ['reviewText', 'overall'])\n"
   ]
  },
  {
   "cell_type": "code",
   "execution_count": 111,
   "metadata": {},
   "outputs": [
    {
     "data": {
      "text/html": [
       "<div>\n",
       "<style scoped>\n",
       "    .dataframe tbody tr th:only-of-type {\n",
       "        vertical-align: middle;\n",
       "    }\n",
       "\n",
       "    .dataframe tbody tr th {\n",
       "        vertical-align: top;\n",
       "    }\n",
       "\n",
       "    .dataframe thead th {\n",
       "        text-align: right;\n",
       "    }\n",
       "</style>\n",
       "<table border=\"1\" class=\"dataframe\">\n",
       "  <thead>\n",
       "    <tr style=\"text-align: right;\">\n",
       "      <th></th>\n",
       "      <th>reviewText</th>\n",
       "      <th>overall</th>\n",
       "    </tr>\n",
       "  </thead>\n",
       "  <tbody>\n",
       "    <tr>\n",
       "      <td>41189</td>\n",
       "      <td>Besides the benefit of having twice the erasin...</td>\n",
       "      <td>5</td>\n",
       "    </tr>\n",
       "    <tr>\n",
       "      <td>44500</td>\n",
       "      <td>These pens are great.  Smooth writing, and I r...</td>\n",
       "      <td>5</td>\n",
       "    </tr>\n",
       "    <tr>\n",
       "      <td>37849</td>\n",
       "      <td>I've had Epson and HP printers, and both have ...</td>\n",
       "      <td>5</td>\n",
       "    </tr>\n",
       "    <tr>\n",
       "      <td>12647</td>\n",
       "      <td>love this mount. works great and looks good to...</td>\n",
       "      <td>5</td>\n",
       "    </tr>\n",
       "    <tr>\n",
       "      <td>9831</td>\n",
       "      <td>It is okay. It serves the purpose. It is a goo...</td>\n",
       "      <td>3</td>\n",
       "    </tr>\n",
       "  </tbody>\n",
       "</table>\n",
       "</div>"
      ],
      "text/plain": [
       "                                              reviewText  overall\n",
       "41189  Besides the benefit of having twice the erasin...        5\n",
       "44500  These pens are great.  Smooth writing, and I r...        5\n",
       "37849  I've had Epson and HP printers, and both have ...        5\n",
       "12647  love this mount. works great and looks good to...        5\n",
       "9831   It is okay. It serves the purpose. It is a goo...        3"
      ]
     },
     "execution_count": 111,
     "metadata": {},
     "output_type": "execute_result"
    }
   ],
   "source": [
    "df.head()"
   ]
  },
  {
   "cell_type": "code",
   "execution_count": 112,
   "metadata": {},
   "outputs": [],
   "source": [
    "def label_sentiment(row):\n",
    "    if int(row['overall']) < 3:\n",
    "        return 'neg'\n",
    "    else:\n",
    "        return 'pos'"
   ]
  },
  {
   "cell_type": "code",
   "execution_count": 113,
   "metadata": {},
   "outputs": [],
   "source": [
    "df['sentiment_label'] = df.apply(lambda row: label_sentiment(row), axis=1)"
   ]
  },
  {
   "cell_type": "code",
   "execution_count": 114,
   "metadata": {},
   "outputs": [
    {
     "data": {
      "text/html": [
       "<div>\n",
       "<style scoped>\n",
       "    .dataframe tbody tr th:only-of-type {\n",
       "        vertical-align: middle;\n",
       "    }\n",
       "\n",
       "    .dataframe tbody tr th {\n",
       "        vertical-align: top;\n",
       "    }\n",
       "\n",
       "    .dataframe thead th {\n",
       "        text-align: right;\n",
       "    }\n",
       "</style>\n",
       "<table border=\"1\" class=\"dataframe\">\n",
       "  <thead>\n",
       "    <tr style=\"text-align: right;\">\n",
       "      <th></th>\n",
       "      <th>reviewText</th>\n",
       "      <th>overall</th>\n",
       "      <th>sentiment_label</th>\n",
       "    </tr>\n",
       "  </thead>\n",
       "  <tbody>\n",
       "    <tr>\n",
       "      <td>41189</td>\n",
       "      <td>Besides the benefit of having twice the erasin...</td>\n",
       "      <td>5</td>\n",
       "      <td>pos</td>\n",
       "    </tr>\n",
       "    <tr>\n",
       "      <td>44500</td>\n",
       "      <td>These pens are great.  Smooth writing, and I r...</td>\n",
       "      <td>5</td>\n",
       "      <td>pos</td>\n",
       "    </tr>\n",
       "    <tr>\n",
       "      <td>37849</td>\n",
       "      <td>I've had Epson and HP printers, and both have ...</td>\n",
       "      <td>5</td>\n",
       "      <td>pos</td>\n",
       "    </tr>\n",
       "    <tr>\n",
       "      <td>12647</td>\n",
       "      <td>love this mount. works great and looks good to...</td>\n",
       "      <td>5</td>\n",
       "      <td>pos</td>\n",
       "    </tr>\n",
       "    <tr>\n",
       "      <td>9831</td>\n",
       "      <td>It is okay. It serves the purpose. It is a goo...</td>\n",
       "      <td>3</td>\n",
       "      <td>pos</td>\n",
       "    </tr>\n",
       "  </tbody>\n",
       "</table>\n",
       "</div>"
      ],
      "text/plain": [
       "                                              reviewText  overall  \\\n",
       "41189  Besides the benefit of having twice the erasin...        5   \n",
       "44500  These pens are great.  Smooth writing, and I r...        5   \n",
       "37849  I've had Epson and HP printers, and both have ...        5   \n",
       "12647  love this mount. works great and looks good to...        5   \n",
       "9831   It is okay. It serves the purpose. It is a goo...        3   \n",
       "\n",
       "      sentiment_label  \n",
       "41189             pos  \n",
       "44500             pos  \n",
       "37849             pos  \n",
       "12647             pos  \n",
       "9831              pos  "
      ]
     },
     "execution_count": 114,
     "metadata": {},
     "output_type": "execute_result"
    }
   ],
   "source": [
    "df.head()"
   ]
  },
  {
   "cell_type": "markdown",
   "metadata": {},
   "source": [
    "df.columns = ['review', 'sentiment', 'sentiment_label' ]"
   ]
  },
  {
   "cell_type": "code",
   "execution_count": 118,
   "metadata": {},
   "outputs": [
    {
     "data": {
      "text/html": [
       "<div>\n",
       "<style scoped>\n",
       "    .dataframe tbody tr th:only-of-type {\n",
       "        vertical-align: middle;\n",
       "    }\n",
       "\n",
       "    .dataframe tbody tr th {\n",
       "        vertical-align: top;\n",
       "    }\n",
       "\n",
       "    .dataframe thead th {\n",
       "        text-align: right;\n",
       "    }\n",
       "</style>\n",
       "<table border=\"1\" class=\"dataframe\">\n",
       "  <thead>\n",
       "    <tr style=\"text-align: right;\">\n",
       "      <th></th>\n",
       "      <th>review</th>\n",
       "      <th>sentiment</th>\n",
       "      <th>sentiment_label</th>\n",
       "    </tr>\n",
       "  </thead>\n",
       "  <tbody>\n",
       "    <tr>\n",
       "      <td>41189</td>\n",
       "      <td>Besides the benefit of having twice the erasin...</td>\n",
       "      <td>5</td>\n",
       "      <td>pos</td>\n",
       "    </tr>\n",
       "    <tr>\n",
       "      <td>44500</td>\n",
       "      <td>These pens are great.  Smooth writing, and I r...</td>\n",
       "      <td>5</td>\n",
       "      <td>pos</td>\n",
       "    </tr>\n",
       "    <tr>\n",
       "      <td>37849</td>\n",
       "      <td>I've had Epson and HP printers, and both have ...</td>\n",
       "      <td>5</td>\n",
       "      <td>pos</td>\n",
       "    </tr>\n",
       "    <tr>\n",
       "      <td>12647</td>\n",
       "      <td>love this mount. works great and looks good to...</td>\n",
       "      <td>5</td>\n",
       "      <td>pos</td>\n",
       "    </tr>\n",
       "    <tr>\n",
       "      <td>9831</td>\n",
       "      <td>It is okay. It serves the purpose. It is a goo...</td>\n",
       "      <td>3</td>\n",
       "      <td>pos</td>\n",
       "    </tr>\n",
       "  </tbody>\n",
       "</table>\n",
       "</div>"
      ],
      "text/plain": [
       "                                                  review  sentiment  \\\n",
       "41189  Besides the benefit of having twice the erasin...          5   \n",
       "44500  These pens are great.  Smooth writing, and I r...          5   \n",
       "37849  I've had Epson and HP printers, and both have ...          5   \n",
       "12647  love this mount. works great and looks good to...          5   \n",
       "9831   It is okay. It serves the purpose. It is a goo...          3   \n",
       "\n",
       "      sentiment_label  \n",
       "41189             pos  \n",
       "44500             pos  \n",
       "37849             pos  \n",
       "12647             pos  \n",
       "9831              pos  "
      ]
     },
     "execution_count": 118,
     "metadata": {},
     "output_type": "execute_result"
    }
   ],
   "source": [
    "df.head()"
   ]
  },
  {
   "cell_type": "markdown",
   "metadata": {},
   "source": [
    "Separamos entre test y train"
   ]
  },
  {
   "cell_type": "code",
   "execution_count": 119,
   "metadata": {},
   "outputs": [],
   "source": [
    "import sys\n",
    "sys.path.append('../..')\n",
    "\n",
    "from utils import load_cinema_reviews\n",
    "\n",
    "import random\n",
    "import numpy as np\n",
    "import pandas as pd\n",
    "\n",
    "from sklearn.model_selection import train_test_split\n",
    "from sklearn.pipeline import Pipeline\n",
    "from sklearn.feature_extraction.text import CountVectorizer, TfidfVectorizer\n",
    "from sklearn.feature_selection import chi2\n",
    "from sklearn.linear_model import LogisticRegression\n",
    "from sklearn.metrics import accuracy_score, confusion_matrix, classification_report, roc_curve\n",
    "import matplotlib.pyplot as plt"
   ]
  },
  {
   "cell_type": "code",
   "execution_count": 120,
   "metadata": {},
   "outputs": [],
   "source": [
    "X_train, X_test, y_train, y_test = train_test_split(\n",
    "    df['review'],\n",
    "    df['sentiment_label'],\n",
    "    train_size=0.75,\n",
    "    test_size=0.25,\n",
    "    random_state=42,\n",
    "    shuffle=True\n",
    ")"
   ]
  },
  {
   "cell_type": "code",
   "execution_count": 121,
   "metadata": {},
   "outputs": [
    {
     "data": {
      "text/plain": [
       "30000"
      ]
     },
     "execution_count": 121,
     "metadata": {},
     "output_type": "execute_result"
    }
   ],
   "source": [
    "len(X_train)"
   ]
  },
  {
   "cell_type": "code",
   "execution_count": 132,
   "metadata": {},
   "outputs": [
    {
     "data": {
      "text/plain": [
       "TfidfVectorizer(analyzer='word', binary=False, decode_error='strict',\n",
       "                dtype=<class 'numpy.float64'>, encoding='utf-8',\n",
       "                input='content', lowercase=True, max_df=0.95, max_features=5000,\n",
       "                min_df=5, ngram_range=(1, 1), norm='l2', preprocessor=None,\n",
       "                smooth_idf=True, stop_words=None, strip_accents='ascii',\n",
       "                sublinear_tf=False, token_pattern='(?u)\\\\b\\\\w\\\\w+\\\\b',\n",
       "                tokenizer=None, use_idf=True, vocabulary=None)"
      ]
     },
     "execution_count": 132,
     "metadata": {},
     "output_type": "execute_result"
    }
   ],
   "source": [
    "cv = TfidfVectorizer(\n",
    "    max_df=0.95,\n",
    "    min_df=5,\n",
    "    max_features=5000,\n",
    "    strip_accents='ascii',\n",
    "    ngram_range=(1, 1)\n",
    ")\n",
    "cv.fit(X_train)"
   ]
  },
  {
   "cell_type": "code",
   "execution_count": 133,
   "metadata": {},
   "outputs": [
    {
     "name": "stdout",
     "output_type": "stream",
     "text": [
      "[('its', 2248), ('one', 2947), ('great', 1876), ('like', 2451), ('the', 4422), ('that', 4420), ('old', 2942), ('tube', 4599), ('sound', 4062), ('and', 233), ('mic', 2678), ('position', 3261), ('on', 2945), ('cabinets', 629), ('am', 217), ('using', 4693), ('this', 4446), ('with', 4908), ('bass', 406), ('gives', 1826)]\n"
     ]
    }
   ],
   "source": [
    "print(list(cv.vocabulary_.items())[:20])"
   ]
  },
  {
   "cell_type": "code",
   "execution_count": 134,
   "metadata": {},
   "outputs": [
    {
     "name": "stdout",
     "output_type": "stream",
     "text": [
      "5000\n"
     ]
    }
   ],
   "source": [
    "print(len(cv.vocabulary_))"
   ]
  },
  {
   "cell_type": "code",
   "execution_count": 135,
   "metadata": {},
   "outputs": [],
   "source": [
    "X_train_ = cv.transform(X_train)\n",
    "X_test_ = cv.transform(X_test)"
   ]
  },
  {
   "cell_type": "code",
   "execution_count": 136,
   "metadata": {},
   "outputs": [
    {
     "name": "stdout",
     "output_type": "stream",
     "text": [
      "ID: 16173\n",
      "Sentiment: pos\n",
      "Review: I know the kind of person I am - If I buy a big pedal board, I'll have to spend hundreds of dollars to fill it up with great effects. Buy a smaller board and I can be selective in the pedals I buy and save $$ by not trying to fill it. Hence, the purchase of the Pedaltrain Mini.This board will fit approx 5 pedals and a power supply. When I initially purchased it, I was hoping that I could fit the power supply under the board, but I tried a few small power units from Guitar Center and none would fit and allow the board to lay flush. I should probably ding one star for this and it would be a great improvement if pedaltrain would just raise the board about 1/8\" to allow for the power to be mounted under the board.The unit is VERY sturdy and ships with velcro to secure pedals to the top. The velcro feels like it's military grade and does a great job of securing the pedals. It's light, easy to carry, and I can grab the case in one hand, with my guitar in the same hand, and carry my amp with the other hand (only one trip from the car to the gig).Overall, this is a great board. I currently have a looper, overdrive, distortion, echo and tuner on my unit. I've added a photo of my board.\n"
     ]
    }
   ],
   "source": [
    "i = random.randint(0, len(X_train))\n",
    "print('ID: {}'.format(i))\n",
    "print('Sentiment: {}'.format(y_train.iloc[i]))\n",
    "print('Review: {}'.format(X_train.iloc[i]))"
   ]
  },
  {
   "cell_type": "code",
   "execution_count": 137,
   "metadata": {},
   "outputs": [
    {
     "name": "stdout",
     "output_type": "stream",
     "text": [
      "Top 10 words with highest TF_IDF in the review 16173:\n",
      "           tfidf\n",
      "board   0.522483\n",
      "the     0.261518\n",
      "pedals  0.251071\n",
      "power   0.201325\n",
      "and     0.154695\n",
      "velcro  0.154632\n",
      "to      0.147578\n",
      "hand    0.146782\n",
      "fit     0.138161\n",
      "supply  0.130947\n",
      "\n",
      "Top 10 words with lowest TF_IDF in the review 16173:\n",
      "         tfidf\n",
      "will  0.028322\n",
      "up    0.027909\n",
      "just  0.027202\n",
      "very  0.027153\n",
      "like  0.027000\n",
      "was   0.026831\n",
      "not   0.022933\n",
      "but   0.021004\n",
      "on    0.020256\n",
      "that  0.020015\n"
     ]
    }
   ],
   "source": [
    "doc_vector = X_train_[i]\n",
    "df_tfidf = pd.DataFrame(doc_vector.T.todense(), index=cv.get_feature_names(), columns=['tfidf'])\n",
    "df_tfidf = df_tfidf[df_tfidf['tfidf'] > 0]\n",
    "\n",
    "top_n = 10\n",
    "print('Top {} words with highest TF_IDF in the review {}:\\n{}'.format(top_n, i, df_tfidf.sort_values(by=[\"tfidf\"],ascending=False)[:top_n]))\n",
    "print('\\nTop {} words with lowest TF_IDF in the review {}:\\n{}'.format(top_n, i, df_tfidf.sort_values(by=[\"tfidf\"],ascending=False)[-top_n:]))"
   ]
  },
  {
   "cell_type": "code",
   "execution_count": 138,
   "metadata": {},
   "outputs": [
    {
     "name": "stderr",
     "output_type": "stream",
     "text": [
      "<>:15: DeprecationWarning: invalid escape sequence \\c\n",
      "<>:17: DeprecationWarning: invalid escape sequence \\c\n",
      "<>:15: DeprecationWarning: invalid escape sequence \\c\n",
      "<>:17: DeprecationWarning: invalid escape sequence \\c\n",
      "<>:15: DeprecationWarning: invalid escape sequence \\c\n",
      "<>:17: DeprecationWarning: invalid escape sequence \\c\n",
      "<ipython-input-138-b0b06cd722ad>:15: DeprecationWarning: invalid escape sequence \\c\n",
      "  plt.xlabel('$\\chi^2$', fontsize=26)\n",
      "<ipython-input-138-b0b06cd722ad>:17: DeprecationWarning: invalid escape sequence \\c\n",
      "  plt.title('Top {} $\\chi^2$ score for each word in the training set'.format(i), fontsize=20)\n"
     ]
    },
    {
     "data": {
      "image/png": "[encoded data removed]",
      "text/plain": [
       "<Figure size 864x576 with 1 Axes>"
      ]
     },
     "metadata": {
      "needs_background": "light"
     },
     "output_type": "display_data"
    }
   ],
   "source": [
    "# Compute the chi-squared score for each word in the training set and show the values\n",
    "i = 15\n",
    "\n",
    "chi2score = chi2(X_train_, y_train)[0]\n",
    "scores = list(zip(cv.get_feature_names(), chi2score))\n",
    "sorted_scores = sorted(scores, key=lambda x:x[1])\n",
    "topchi2 = list(zip(*sorted_scores[-i:]))\n",
    "x = range(len(topchi2[1]))\n",
    "labels = topchi2[0]\n",
    "\n",
    "plt.figure(figsize=(12, 8))\n",
    "plt.barh(x,topchi2[1], align='center', alpha=0.5)\n",
    "plt.plot(topchi2[1], x, '-o', markersize=5, alpha=0.8)\n",
    "plt.yticks(x, labels, fontsize=12)\n",
    "plt.xlabel('$\\chi^2$', fontsize=26)\n",
    "plt.ylabel('word', fontsize=16)\n",
    "plt.title('Top {} $\\chi^2$ score for each word in the training set'.format(i), fontsize=20)\n",
    "plt.grid()\n",
    "plt.tight_layout()\n",
    "plt.show();"
   ]
  },
  {
   "cell_type": "code",
   "execution_count": 139,
   "metadata": {},
   "outputs": [
    {
     "data": {
      "text/plain": [
       "Counter({'pos': 28151, 'neg': 1849})"
      ]
     },
     "execution_count": 139,
     "metadata": {},
     "output_type": "execute_result"
    }
   ],
   "source": [
    "from collections import Counter\n",
    "Counter(y_train)"
   ]
  },
  {
   "cell_type": "markdown",
   "metadata": {},
   "source": [
    "¿Porque son todas negativas?. Vemos que hay muchas más opiniones negativas que positivas.\n",
    "Los  adjetivos negativos suelen expresarse siempre con la misma palabra, por lo que van a tener una mayor presencia que los positivos."
   ]
  },
  {
   "cell_type": "code",
   "execution_count": 140,
   "metadata": {},
   "outputs": [],
   "source": [
    "prueba= df"
   ]
  },
  {
   "cell_type": "code",
   "execution_count": 141,
   "metadata": {},
   "outputs": [
    {
     "data": {
      "text/html": [
       "<div>\n",
       "<style scoped>\n",
       "    .dataframe tbody tr th:only-of-type {\n",
       "        vertical-align: middle;\n",
       "    }\n",
       "\n",
       "    .dataframe tbody tr th {\n",
       "        vertical-align: top;\n",
       "    }\n",
       "\n",
       "    .dataframe thead th {\n",
       "        text-align: right;\n",
       "    }\n",
       "</style>\n",
       "<table border=\"1\" class=\"dataframe\">\n",
       "  <thead>\n",
       "    <tr style=\"text-align: right;\">\n",
       "      <th></th>\n",
       "      <th>review</th>\n",
       "      <th>sentiment</th>\n",
       "      <th>sentiment_label</th>\n",
       "    </tr>\n",
       "  </thead>\n",
       "  <tbody>\n",
       "    <tr>\n",
       "      <td>41189</td>\n",
       "      <td>Besides the benefit of having twice the erasin...</td>\n",
       "      <td>5</td>\n",
       "      <td>pos</td>\n",
       "    </tr>\n",
       "    <tr>\n",
       "      <td>44500</td>\n",
       "      <td>These pens are great.  Smooth writing, and I r...</td>\n",
       "      <td>5</td>\n",
       "      <td>pos</td>\n",
       "    </tr>\n",
       "    <tr>\n",
       "      <td>37849</td>\n",
       "      <td>I've had Epson and HP printers, and both have ...</td>\n",
       "      <td>5</td>\n",
       "      <td>pos</td>\n",
       "    </tr>\n",
       "    <tr>\n",
       "      <td>12647</td>\n",
       "      <td>love this mount. works great and looks good to...</td>\n",
       "      <td>5</td>\n",
       "      <td>pos</td>\n",
       "    </tr>\n",
       "    <tr>\n",
       "      <td>9831</td>\n",
       "      <td>It is okay. It serves the purpose. It is a goo...</td>\n",
       "      <td>3</td>\n",
       "      <td>pos</td>\n",
       "    </tr>\n",
       "  </tbody>\n",
       "</table>\n",
       "</div>"
      ],
      "text/plain": [
       "                                                  review  sentiment  \\\n",
       "41189  Besides the benefit of having twice the erasin...          5   \n",
       "44500  These pens are great.  Smooth writing, and I r...          5   \n",
       "37849  I've had Epson and HP printers, and both have ...          5   \n",
       "12647  love this mount. works great and looks good to...          5   \n",
       "9831   It is okay. It serves the purpose. It is a goo...          3   \n",
       "\n",
       "      sentiment_label  \n",
       "41189             pos  \n",
       "44500             pos  \n",
       "37849             pos  \n",
       "12647             pos  \n",
       "9831              pos  "
      ]
     },
     "execution_count": 141,
     "metadata": {},
     "output_type": "execute_result"
    }
   ],
   "source": [
    "prueba.head()"
   ]
  },
  {
   "cell_type": "code",
   "execution_count": 142,
   "metadata": {},
   "outputs": [],
   "source": [
    "import sys\n",
    "sys.path.append('../..')\n",
    "\n",
    "\n",
    "from utils import load_cinema_reviews, get_lemmas_dict"
   ]
  },
  {
   "cell_type": "code",
   "execution_count": 143,
   "metadata": {},
   "outputs": [],
   "source": [
    "data_path = '../../data'\n",
    "lemmas_dict_file = 'lemmatization-en.txt'\n",
    "lemmas_dict = get_lemmas_dict(data_path, lemmas_dict_file)"
   ]
  },
  {
   "cell_type": "code",
   "execution_count": 144,
   "metadata": {},
   "outputs": [],
   "source": [
    "limpio = []\n",
    "for text in prueba['review']:\n",
    "    limpio.append(text_normalizer(text, lemmatize=True))"
   ]
  },
  {
   "cell_type": "code",
   "execution_count": 145,
   "metadata": {},
   "outputs": [
    {
     "data": {
      "text/plain": [
       "list"
      ]
     },
     "execution_count": 145,
     "metadata": {},
     "output_type": "execute_result"
    }
   ],
   "source": [
    "type(limpio)"
   ]
  },
  {
   "cell_type": "code",
   "execution_count": 146,
   "metadata": {},
   "outputs": [],
   "source": [
    "df3 = pd.DataFrame(limpio)"
   ]
  },
  {
   "cell_type": "code",
   "execution_count": 164,
   "metadata": {},
   "outputs": [],
   "source": [
    "df3.columns = ['reviewLemm']"
   ]
  },
  {
   "cell_type": "code",
   "execution_count": 165,
   "metadata": {},
   "outputs": [
    {
     "data": {
      "text/html": [
       "<div>\n",
       "<style scoped>\n",
       "    .dataframe tbody tr th:only-of-type {\n",
       "        vertical-align: middle;\n",
       "    }\n",
       "\n",
       "    .dataframe tbody tr th {\n",
       "        vertical-align: top;\n",
       "    }\n",
       "\n",
       "    .dataframe thead th {\n",
       "        text-align: right;\n",
       "    }\n",
       "</style>\n",
       "<table border=\"1\" class=\"dataframe\">\n",
       "  <thead>\n",
       "    <tr style=\"text-align: right;\">\n",
       "      <th></th>\n",
       "      <th>reviewLemm</th>\n",
       "    </tr>\n",
       "  </thead>\n",
       "  <tbody>\n",
       "    <tr>\n",
       "      <td>0</td>\n",
       "      <td>besides the benefit of have twice the erase po...</td>\n",
       "    </tr>\n",
       "    <tr>\n",
       "      <td>1</td>\n",
       "      <td>this pen be great smooth write and i really li...</td>\n",
       "    </tr>\n",
       "    <tr>\n",
       "      <td>2</td>\n",
       "      <td>ive have epson and hp printer and both have th...</td>\n",
       "    </tr>\n",
       "    <tr>\n",
       "      <td>3</td>\n",
       "      <td>love this mount work great and look good too a...</td>\n",
       "    </tr>\n",
       "    <tr>\n",
       "      <td>4</td>\n",
       "      <td>it be okay it serve the purpose it be a good f...</td>\n",
       "    </tr>\n",
       "  </tbody>\n",
       "</table>\n",
       "</div>"
      ],
      "text/plain": [
       "                                          reviewLemm\n",
       "0  besides the benefit of have twice the erase po...\n",
       "1  this pen be great smooth write and i really li...\n",
       "2  ive have epson and hp printer and both have th...\n",
       "3  love this mount work great and look good too a...\n",
       "4  it be okay it serve the purpose it be a good f..."
      ]
     },
     "execution_count": 165,
     "metadata": {},
     "output_type": "execute_result"
    }
   ],
   "source": [
    "df3.head()"
   ]
  },
  {
   "cell_type": "code",
   "execution_count": 186,
   "metadata": {},
   "outputs": [],
   "source": [
    "\n",
    "prueba[\"reviewLemm\"] = np.nan"
   ]
  },
  {
   "cell_type": "code",
   "execution_count": 187,
   "metadata": {},
   "outputs": [
    {
     "data": {
      "text/html": [
       "<div>\n",
       "<style scoped>\n",
       "    .dataframe tbody tr th:only-of-type {\n",
       "        vertical-align: middle;\n",
       "    }\n",
       "\n",
       "    .dataframe tbody tr th {\n",
       "        vertical-align: top;\n",
       "    }\n",
       "\n",
       "    .dataframe thead th {\n",
       "        text-align: right;\n",
       "    }\n",
       "</style>\n",
       "<table border=\"1\" class=\"dataframe\">\n",
       "  <thead>\n",
       "    <tr style=\"text-align: right;\">\n",
       "      <th></th>\n",
       "      <th>review</th>\n",
       "      <th>sentiment</th>\n",
       "      <th>sentiment_label</th>\n",
       "      <th>reviewLemm</th>\n",
       "    </tr>\n",
       "  </thead>\n",
       "  <tbody>\n",
       "    <tr>\n",
       "      <td>41189</td>\n",
       "      <td>Besides the benefit of having twice the erasin...</td>\n",
       "      <td>5</td>\n",
       "      <td>pos</td>\n",
       "      <td>NaN</td>\n",
       "    </tr>\n",
       "    <tr>\n",
       "      <td>44500</td>\n",
       "      <td>These pens are great.  Smooth writing, and I r...</td>\n",
       "      <td>5</td>\n",
       "      <td>pos</td>\n",
       "      <td>NaN</td>\n",
       "    </tr>\n",
       "    <tr>\n",
       "      <td>37849</td>\n",
       "      <td>I've had Epson and HP printers, and both have ...</td>\n",
       "      <td>5</td>\n",
       "      <td>pos</td>\n",
       "      <td>NaN</td>\n",
       "    </tr>\n",
       "    <tr>\n",
       "      <td>12647</td>\n",
       "      <td>love this mount. works great and looks good to...</td>\n",
       "      <td>5</td>\n",
       "      <td>pos</td>\n",
       "      <td>NaN</td>\n",
       "    </tr>\n",
       "    <tr>\n",
       "      <td>9831</td>\n",
       "      <td>It is okay. It serves the purpose. It is a goo...</td>\n",
       "      <td>3</td>\n",
       "      <td>pos</td>\n",
       "      <td>NaN</td>\n",
       "    </tr>\n",
       "  </tbody>\n",
       "</table>\n",
       "</div>"
      ],
      "text/plain": [
       "                                                  review  sentiment  \\\n",
       "41189  Besides the benefit of having twice the erasin...          5   \n",
       "44500  These pens are great.  Smooth writing, and I r...          5   \n",
       "37849  I've had Epson and HP printers, and both have ...          5   \n",
       "12647  love this mount. works great and looks good to...          5   \n",
       "9831   It is okay. It serves the purpose. It is a goo...          3   \n",
       "\n",
       "      sentiment_label  reviewLemm  \n",
       "41189             pos         NaN  \n",
       "44500             pos         NaN  \n",
       "37849             pos         NaN  \n",
       "12647             pos         NaN  \n",
       "9831              pos         NaN  "
      ]
     },
     "execution_count": 187,
     "metadata": {},
     "output_type": "execute_result"
    }
   ],
   "source": [
    "prueba.head()"
   ]
  },
  {
   "cell_type": "code",
   "execution_count": 188,
   "metadata": {},
   "outputs": [],
   "source": [
    "prueba['reviewLemm'] = df3['reviewLemm'].values"
   ]
  },
  {
   "cell_type": "code",
   "execution_count": 189,
   "metadata": {},
   "outputs": [
    {
     "data": {
      "text/html": [
       "<div>\n",
       "<style scoped>\n",
       "    .dataframe tbody tr th:only-of-type {\n",
       "        vertical-align: middle;\n",
       "    }\n",
       "\n",
       "    .dataframe tbody tr th {\n",
       "        vertical-align: top;\n",
       "    }\n",
       "\n",
       "    .dataframe thead th {\n",
       "        text-align: right;\n",
       "    }\n",
       "</style>\n",
       "<table border=\"1\" class=\"dataframe\">\n",
       "  <thead>\n",
       "    <tr style=\"text-align: right;\">\n",
       "      <th></th>\n",
       "      <th>review</th>\n",
       "      <th>sentiment</th>\n",
       "      <th>sentiment_label</th>\n",
       "      <th>reviewLemm</th>\n",
       "    </tr>\n",
       "  </thead>\n",
       "  <tbody>\n",
       "    <tr>\n",
       "      <td>41189</td>\n",
       "      <td>Besides the benefit of having twice the erasin...</td>\n",
       "      <td>5</td>\n",
       "      <td>pos</td>\n",
       "      <td>besides the benefit of have twice the erase po...</td>\n",
       "    </tr>\n",
       "    <tr>\n",
       "      <td>44500</td>\n",
       "      <td>These pens are great.  Smooth writing, and I r...</td>\n",
       "      <td>5</td>\n",
       "      <td>pos</td>\n",
       "      <td>this pen be great smooth write and i really li...</td>\n",
       "    </tr>\n",
       "    <tr>\n",
       "      <td>37849</td>\n",
       "      <td>I've had Epson and HP printers, and both have ...</td>\n",
       "      <td>5</td>\n",
       "      <td>pos</td>\n",
       "      <td>ive have epson and hp printer and both have th...</td>\n",
       "    </tr>\n",
       "    <tr>\n",
       "      <td>12647</td>\n",
       "      <td>love this mount. works great and looks good to...</td>\n",
       "      <td>5</td>\n",
       "      <td>pos</td>\n",
       "      <td>love this mount work great and look good too a...</td>\n",
       "    </tr>\n",
       "    <tr>\n",
       "      <td>9831</td>\n",
       "      <td>It is okay. It serves the purpose. It is a goo...</td>\n",
       "      <td>3</td>\n",
       "      <td>pos</td>\n",
       "      <td>it be okay it serve the purpose it be a good f...</td>\n",
       "    </tr>\n",
       "  </tbody>\n",
       "</table>\n",
       "</div>"
      ],
      "text/plain": [
       "                                                  review  sentiment  \\\n",
       "41189  Besides the benefit of having twice the erasin...          5   \n",
       "44500  These pens are great.  Smooth writing, and I r...          5   \n",
       "37849  I've had Epson and HP printers, and both have ...          5   \n",
       "12647  love this mount. works great and looks good to...          5   \n",
       "9831   It is okay. It serves the purpose. It is a goo...          3   \n",
       "\n",
       "      sentiment_label                                         reviewLemm  \n",
       "41189             pos  besides the benefit of have twice the erase po...  \n",
       "44500             pos  this pen be great smooth write and i really li...  \n",
       "37849             pos  ive have epson and hp printer and both have th...  \n",
       "12647             pos  love this mount work great and look good too a...  \n",
       "9831              pos  it be okay it serve the purpose it be a good f...  "
      ]
     },
     "execution_count": 189,
     "metadata": {},
     "output_type": "execute_result"
    }
   ],
   "source": [
    "prueba.head()"
   ]
  },
  {
   "cell_type": "code",
   "execution_count": 190,
   "metadata": {},
   "outputs": [
    {
     "data": {
      "text/html": [
       "<div>\n",
       "<style scoped>\n",
       "    .dataframe tbody tr th:only-of-type {\n",
       "        vertical-align: middle;\n",
       "    }\n",
       "\n",
       "    .dataframe tbody tr th {\n",
       "        vertical-align: top;\n",
       "    }\n",
       "\n",
       "    .dataframe thead th {\n",
       "        text-align: right;\n",
       "    }\n",
       "</style>\n",
       "<table border=\"1\" class=\"dataframe\">\n",
       "  <thead>\n",
       "    <tr style=\"text-align: right;\">\n",
       "      <th></th>\n",
       "      <th>sentiment</th>\n",
       "      <th>sentiment_label</th>\n",
       "      <th>reviewLemm</th>\n",
       "    </tr>\n",
       "  </thead>\n",
       "  <tbody>\n",
       "    <tr>\n",
       "      <td>41189</td>\n",
       "      <td>5</td>\n",
       "      <td>pos</td>\n",
       "      <td>besides the benefit of have twice the erase po...</td>\n",
       "    </tr>\n",
       "    <tr>\n",
       "      <td>44500</td>\n",
       "      <td>5</td>\n",
       "      <td>pos</td>\n",
       "      <td>this pen be great smooth write and i really li...</td>\n",
       "    </tr>\n",
       "    <tr>\n",
       "      <td>37849</td>\n",
       "      <td>5</td>\n",
       "      <td>pos</td>\n",
       "      <td>ive have epson and hp printer and both have th...</td>\n",
       "    </tr>\n",
       "    <tr>\n",
       "      <td>12647</td>\n",
       "      <td>5</td>\n",
       "      <td>pos</td>\n",
       "      <td>love this mount work great and look good too a...</td>\n",
       "    </tr>\n",
       "    <tr>\n",
       "      <td>9831</td>\n",
       "      <td>3</td>\n",
       "      <td>pos</td>\n",
       "      <td>it be okay it serve the purpose it be a good f...</td>\n",
       "    </tr>\n",
       "    <tr>\n",
       "      <td>...</td>\n",
       "      <td>...</td>\n",
       "      <td>...</td>\n",
       "      <td>...</td>\n",
       "    </tr>\n",
       "    <tr>\n",
       "      <td>10903</td>\n",
       "      <td>5</td>\n",
       "      <td>pos</td>\n",
       "      <td>it work and it fit perfect it fit tight and wo...</td>\n",
       "    </tr>\n",
       "    <tr>\n",
       "      <td>1587</td>\n",
       "      <td>4</td>\n",
       "      <td>pos</td>\n",
       "      <td>if you be replace your old butterfly tree you ...</td>\n",
       "    </tr>\n",
       "    <tr>\n",
       "      <td>3465</td>\n",
       "      <td>4</td>\n",
       "      <td>pos</td>\n",
       "      <td>﻿1 of all there be no artificial bird a pictur...</td>\n",
       "    </tr>\n",
       "    <tr>\n",
       "      <td>17498</td>\n",
       "      <td>5</td>\n",
       "      <td>pos</td>\n",
       "      <td>if this will fit in your interior light fixtur...</td>\n",
       "    </tr>\n",
       "    <tr>\n",
       "      <td>19693</td>\n",
       "      <td>4</td>\n",
       "      <td>pos</td>\n",
       "      <td>the uniball kurutoga be a mouthful of a name f...</td>\n",
       "    </tr>\n",
       "  </tbody>\n",
       "</table>\n",
       "<p>40000 rows × 3 columns</p>\n",
       "</div>"
      ],
      "text/plain": [
       "       sentiment sentiment_label  \\\n",
       "41189          5             pos   \n",
       "44500          5             pos   \n",
       "37849          5             pos   \n",
       "12647          5             pos   \n",
       "9831           3             pos   \n",
       "...          ...             ...   \n",
       "10903          5             pos   \n",
       "1587           4             pos   \n",
       "3465           4             pos   \n",
       "17498          5             pos   \n",
       "19693          4             pos   \n",
       "\n",
       "                                              reviewLemm  \n",
       "41189  besides the benefit of have twice the erase po...  \n",
       "44500  this pen be great smooth write and i really li...  \n",
       "37849  ive have epson and hp printer and both have th...  \n",
       "12647  love this mount work great and look good too a...  \n",
       "9831   it be okay it serve the purpose it be a good f...  \n",
       "...                                                  ...  \n",
       "10903  it work and it fit perfect it fit tight and wo...  \n",
       "1587   if you be replace your old butterfly tree you ...  \n",
       "3465   ﻿1 of all there be no artificial bird a pictur...  \n",
       "17498  if this will fit in your interior light fixtur...  \n",
       "19693  the uniball kurutoga be a mouthful of a name f...  \n",
       "\n",
       "[40000 rows x 3 columns]"
      ]
     },
     "execution_count": 190,
     "metadata": {},
     "output_type": "execute_result"
    }
   ],
   "source": [
    "prueba.drop(['review'], axis=1)"
   ]
  },
  {
   "cell_type": "code",
   "execution_count": null,
   "metadata": {},
   "outputs": [],
   "source": []
  },
  {
   "cell_type": "code",
   "execution_count": 194,
   "metadata": {},
   "outputs": [],
   "source": [
    "X_train, X_test, y_train, y_test = train_test_split(\n",
    "    prueba['reviewLemm'],\n",
    "    prueba['sentiment_label'],\n",
    "    train_size=0.75,\n",
    "    test_size=0.25,\n",
    "    random_state=42,\n",
    "    shuffle=True\n",
    ")"
   ]
  },
  {
   "cell_type": "code",
   "execution_count": 195,
   "metadata": {},
   "outputs": [
    {
     "data": {
      "text/plain": [
       "TfidfVectorizer(analyzer='word', binary=False, decode_error='strict',\n",
       "                dtype=<class 'numpy.float64'>, encoding='utf-8',\n",
       "                input='content', lowercase=True, max_df=0.95, max_features=5000,\n",
       "                min_df=0.05, ngram_range=(1, 1), norm='l2', preprocessor=None,\n",
       "                smooth_idf=True, stop_words=None, strip_accents='ascii',\n",
       "                sublinear_tf=False, token_pattern='(?u)\\\\b\\\\w\\\\w+\\\\b',\n",
       "                tokenizer=None, use_idf=True, vocabulary=None)"
      ]
     },
     "execution_count": 195,
     "metadata": {},
     "output_type": "execute_result"
    }
   ],
   "source": [
    "cv = TfidfVectorizer(\n",
    "    max_df=0.95,\n",
    "    min_df=0.05,\n",
    "    max_features=5000,\n",
    "    strip_accents='ascii',\n",
    "    ngram_range=(1, 1)\n",
    ")\n",
    "cv.fit(X_train)"
   ]
  },
  {
   "cell_type": "code",
   "execution_count": 196,
   "metadata": {},
   "outputs": [
    {
     "name": "stdout",
     "output_type": "stream",
     "text": [
      "[('its', 91), ('one', 127), ('great', 68), ('like', 101), ('the', 188), ('that', 186), ('old', 124), ('sound', 175), ('and', 9), ('on', 125), ('be', 17), ('use', 210), ('this', 196), ('with', 224), ('give', 65), ('you', 229), ('really', 153), ('clean', 33), ('if', 82), ('conjurer', 36)]\n"
     ]
    }
   ],
   "source": [
    "print(list(cv.vocabulary_.items())[:20])"
   ]
  },
  {
   "cell_type": "code",
   "execution_count": 197,
   "metadata": {},
   "outputs": [],
   "source": [
    "X_train_ = cv.transform(X_train)\n",
    "X_test_ = cv.transform(X_test)"
   ]
  },
  {
   "cell_type": "code",
   "execution_count": 198,
   "metadata": {},
   "outputs": [
    {
     "name": "stdout",
     "output_type": "stream",
     "text": [
      "Top 10 words with highest TF_IDF in the review 15:\n",
      "            tfidf\n",
      "do       0.355251\n",
      "what     0.347941\n",
      "product  0.327767\n",
      "to       0.301602\n",
      "up       0.287968\n",
      "its      0.281838\n",
      "remove   0.242301\n",
      "sure     0.211590\n",
      "put      0.196359\n",
      "im       0.189112\n",
      "\n",
      "Top 10 words with lowest TF_IDF in the review 15:\n",
      "         tfidf\n",
      "need  0.158111\n",
      "this  0.149404\n",
      "will  0.144216\n",
      "and   0.143706\n",
      "they  0.136618\n",
      "so    0.122521\n",
      "use   0.104289\n",
      "on    0.103829\n",
      "for   0.090187\n",
      "be    0.071527\n"
     ]
    }
   ],
   "source": [
    "doc_vector = X_train_[i]\n",
    "df_tfidf = pd.DataFrame(doc_vector.T.todense(), index=cv.get_feature_names(), columns=['tfidf'])\n",
    "df_tfidf = df_tfidf[df_tfidf['tfidf'] > 0]\n",
    "\n",
    "top_n = 10\n",
    "print('Top {} words with highest TF_IDF in the review {}:\\n{}'.format(top_n, i, df_tfidf.sort_values(by=[\"tfidf\"],ascending=False)[:top_n]))\n",
    "print('\\nTop {} words with lowest TF_IDF in the review {}:\\n{}'.format(top_n, i, df_tfidf.sort_values(by=[\"tfidf\"],ascending=False)[-top_n:]))"
   ]
  },
  {
   "cell_type": "code",
   "execution_count": 199,
   "metadata": {},
   "outputs": [
    {
     "name": "stderr",
     "output_type": "stream",
     "text": [
      "<>:15: DeprecationWarning: invalid escape sequence \\c\n",
      "<>:17: DeprecationWarning: invalid escape sequence \\c\n",
      "<>:15: DeprecationWarning: invalid escape sequence \\c\n",
      "<>:17: DeprecationWarning: invalid escape sequence \\c\n",
      "<>:15: DeprecationWarning: invalid escape sequence \\c\n",
      "<>:17: DeprecationWarning: invalid escape sequence \\c\n",
      "<ipython-input-199-b0b06cd722ad>:15: DeprecationWarning: invalid escape sequence \\c\n",
      "  plt.xlabel('$\\chi^2$', fontsize=26)\n",
      "<ipython-input-199-b0b06cd722ad>:17: DeprecationWarning: invalid escape sequence \\c\n",
      "  plt.title('Top {} $\\chi^2$ score for each word in the training set'.format(i), fontsize=20)\n"
     ]
    },
    {
     "data": {
      "image/png": "[encoded data removed]",
      "text/plain": [
       "<Figure size 864x576 with 1 Axes>"
      ]
     },
     "metadata": {
      "needs_background": "light"
     },
     "output_type": "display_data"
    }
   ],
   "source": [
    "# Compute the chi-squared score for each word in the training set and show the values\n",
    "i = 15\n",
    "\n",
    "chi2score = chi2(X_train_, y_train)[0]\n",
    "scores = list(zip(cv.get_feature_names(), chi2score))\n",
    "sorted_scores = sorted(scores, key=lambda x:x[1])\n",
    "topchi2 = list(zip(*sorted_scores[-i:]))\n",
    "x = range(len(topchi2[1]))\n",
    "labels = topchi2[0]\n",
    "\n",
    "plt.figure(figsize=(12, 8))\n",
    "plt.barh(x,topchi2[1], align='center', alpha=0.5)\n",
    "plt.plot(topchi2[1], x, '-o', markersize=5, alpha=0.8)\n",
    "plt.yticks(x, labels, fontsize=12)\n",
    "plt.xlabel('$\\chi^2$', fontsize=26)\n",
    "plt.ylabel('word', fontsize=16)\n",
    "plt.title('Top {} $\\chi^2$ score for each word in the training set'.format(i), fontsize=20)\n",
    "plt.grid()\n",
    "plt.tight_layout()\n",
    "plt.show();"
   ]
  },
  {
   "cell_type": "code",
   "execution_count": 200,
   "metadata": {},
   "outputs": [
    {
     "name": "stdout",
     "output_type": "stream",
     "text": [
      "Accuracy for C=0.01: 0.9396\n",
      "Accuracy for C=0.05: 0.9396\n",
      "Accuracy for C=0.25: 0.9396\n",
      "Accuracy for C=0.5: 0.94\n",
      "Accuracy for C=1: 0.9406\n",
      "Accuracy for C=10: 0.9395\n",
      "Accuracy for C=100: 0.9396\n",
      "Accuracy for C=1000: 0.9396\n",
      "Accuracy for C=10000: 0.9395\n"
     ]
    }
   ],
   "source": [
    "c_params = [0.01, 0.05, 0.25, 0.5, 1, 10, 100, 1000, 10000]\n",
    "\n",
    "train_acc = list()\n",
    "test_acc = list()\n",
    "for c in c_params:\n",
    "    lr = LogisticRegression(C=c, solver='lbfgs', max_iter=500)\n",
    "    lr.fit(X_train_, y_train)\n",
    "    \n",
    "    train_predict = lr.predict(X_train_)\n",
    "    test_predict = lr.predict(X_test_)\n",
    "    \n",
    "    print (\"Accuracy for C={}: {}\".format(c, accuracy_score(y_test, test_predict)))\n",
    "    \n",
    "    train_acc.append(accuracy_score(y_train, train_predict))\n",
    "    test_acc.append(accuracy_score(y_test, test_predict))"
   ]
  },
  {
   "cell_type": "markdown",
   "metadata": {},
   "source": [
    "Nos esta dando unos accuracis bastante altos, eso significa que hay over fitting. Deberiamos cambiar los parametros del modelo, tambien podriamos analizar en base a bigramas o trigramas o realizar un mejor preprocesado."
   ]
  },
  {
   "cell_type": "code",
   "execution_count": null,
   "metadata": {},
   "outputs": [],
   "source": []
  },
  {
   "cell_type": "markdown",
   "metadata": {},
   "source": [
    "# Generación de Lenguaje natural"
   ]
  },
  {
   "cell_type": "code",
   "execution_count": 201,
   "metadata": {},
   "outputs": [],
   "source": [
    "df = pd.read_csv('../../data/BarackObama.csv')"
   ]
  },
  {
   "cell_type": "code",
   "execution_count": 202,
   "metadata": {},
   "outputs": [
    {
     "data": {
      "text/html": [
       "<div>\n",
       "<style scoped>\n",
       "    .dataframe tbody tr th:only-of-type {\n",
       "        vertical-align: middle;\n",
       "    }\n",
       "\n",
       "    .dataframe tbody tr th {\n",
       "        vertical-align: top;\n",
       "    }\n",
       "\n",
       "    .dataframe thead th {\n",
       "        text-align: right;\n",
       "    }\n",
       "</style>\n",
       "<table border=\"1\" class=\"dataframe\">\n",
       "  <thead>\n",
       "    <tr style=\"text-align: right;\">\n",
       "      <th></th>\n",
       "      <th>Unnamed: 0</th>\n",
       "      <th>date</th>\n",
       "      <th>id</th>\n",
       "      <th>link</th>\n",
       "      <th>retweet</th>\n",
       "      <th>text</th>\n",
       "      <th>author</th>\n",
       "    </tr>\n",
       "  </thead>\n",
       "  <tbody>\n",
       "    <tr>\n",
       "      <td>0</td>\n",
       "      <td>0</td>\n",
       "      <td>20h20 hours ago</td>\n",
       "      <td>786982739517943808</td>\n",
       "      <td>/BarackObama/status/786982739517943808</td>\n",
       "      <td>False</td>\n",
       "      <td>Denying climate change is dangerous. Join @OFA...</td>\n",
       "      <td>BarackObama</td>\n",
       "    </tr>\n",
       "    <tr>\n",
       "      <td>1</td>\n",
       "      <td>1</td>\n",
       "      <td>18h18 hours ago</td>\n",
       "      <td>787010142378332160</td>\n",
       "      <td>/BarackObama/status/787010142378332160</td>\n",
       "      <td>False</td>\n",
       "      <td>The American Bar Association gave Judge Garlan...</td>\n",
       "      <td>BarackObama</td>\n",
       "    </tr>\n",
       "    <tr>\n",
       "      <td>2</td>\n",
       "      <td>2</td>\n",
       "      <td>16h16 hours ago</td>\n",
       "      <td>787039774330748928</td>\n",
       "      <td>/BarackObama/status/787039774330748928</td>\n",
       "      <td>False</td>\n",
       "      <td>We need a fully functional Supreme Court. Edit...</td>\n",
       "      <td>BarackObama</td>\n",
       "    </tr>\n",
       "    <tr>\n",
       "      <td>3</td>\n",
       "      <td>3</td>\n",
       "      <td>21h21 hours ago</td>\n",
       "      <td>786964419905523712</td>\n",
       "      <td>/BarackObama/status/786964419905523712</td>\n",
       "      <td>False</td>\n",
       "      <td>Cynics, take note: When we #ActOnClimate, we b...</td>\n",
       "      <td>BarackObama</td>\n",
       "    </tr>\n",
       "    <tr>\n",
       "      <td>4</td>\n",
       "      <td>4</td>\n",
       "      <td>Oct 13</td>\n",
       "      <td>786680553617629184</td>\n",
       "      <td>/BarackObama/status/786680553617629185</td>\n",
       "      <td>False</td>\n",
       "      <td>\"That’s how we will overcome the challenges we...</td>\n",
       "      <td>BarackObama</td>\n",
       "    </tr>\n",
       "  </tbody>\n",
       "</table>\n",
       "</div>"
      ],
      "text/plain": [
       "   Unnamed: 0             date                  id  \\\n",
       "0           0  20h20 hours ago  786982739517943808   \n",
       "1           1  18h18 hours ago  787010142378332160   \n",
       "2           2  16h16 hours ago  787039774330748928   \n",
       "3           3  21h21 hours ago  786964419905523712   \n",
       "4           4           Oct 13  786680553617629184   \n",
       "\n",
       "                                     link  retweet  \\\n",
       "0  /BarackObama/status/786982739517943808    False   \n",
       "1  /BarackObama/status/787010142378332160    False   \n",
       "2  /BarackObama/status/787039774330748928    False   \n",
       "3  /BarackObama/status/786964419905523712    False   \n",
       "4  /BarackObama/status/786680553617629185    False   \n",
       "\n",
       "                                                text       author  \n",
       "0  Denying climate change is dangerous. Join @OFA...  BarackObama  \n",
       "1  The American Bar Association gave Judge Garlan...  BarackObama  \n",
       "2  We need a fully functional Supreme Court. Edit...  BarackObama  \n",
       "3  Cynics, take note: When we #ActOnClimate, we b...  BarackObama  \n",
       "4  \"That’s how we will overcome the challenges we...  BarackObama  "
      ]
     },
     "execution_count": 202,
     "metadata": {},
     "output_type": "execute_result"
    }
   ],
   "source": [
    "df.head()"
   ]
  },
  {
   "cell_type": "code",
   "execution_count": 203,
   "metadata": {},
   "outputs": [],
   "source": [
    "df.dropna(subset=['text'], inplace=True)"
   ]
  },
  {
   "cell_type": "code",
   "execution_count": 204,
   "metadata": {},
   "outputs": [],
   "source": [
    "text = ''\n",
    "for t in df['text']:\n",
    "    text += ' ' + t"
   ]
  },
  {
   "cell_type": "code",
   "execution_count": 207,
   "metadata": {},
   "outputs": [],
   "source": [
    "from keras.models import Sequential\n",
    "from keras.layers import Dense\n",
    "from keras.layers import Dropout\n",
    "from keras.layers import LSTM\n",
    "from keras.utils import np_utils"
   ]
  },
  {
   "cell_type": "markdown",
   "metadata": {},
   "source": [
    "## Preprocessing"
   ]
  },
  {
   "cell_type": "code",
   "execution_count": 208,
   "metadata": {},
   "outputs": [],
   "source": [
    "characters = sorted(list(set(text)))\n",
    "n_to_char = {n:char for n, char in enumerate(characters)}\n",
    "char_to_n = {char:n for n, char in enumerate(characters)}"
   ]
  },
  {
   "cell_type": "code",
   "execution_count": 209,
   "metadata": {},
   "outputs": [],
   "source": [
    "X = []\n",
    "Y = []\n",
    "length = len(text)\n",
    "seq_length = 100\n",
    "for i in range(0, length-seq_length, 1):\n",
    "    sequence = text[i:i + seq_length]\n",
    "    label =text[i + seq_length]\n",
    "    X.append([char_to_n[char] for char in sequence])\n",
    "    Y.append(char_to_n[label])\n",
    "X_modified = np.reshape(X, (len(X), seq_length, 1))\n",
    "X_modified = X_modified / float(len(characters))\n",
    "Y_modified = np_utils.to_categorical(Y)\n",
    "vocab_size = len(characters)\n"
   ]
  },
  {
   "cell_type": "code",
   "execution_count": 210,
   "metadata": {},
   "outputs": [
    {
     "data": {
      "text/plain": [
       "102"
      ]
     },
     "execution_count": 210,
     "metadata": {},
     "output_type": "execute_result"
    }
   ],
   "source": [
    "vocab_size"
   ]
  },
  {
   "cell_type": "code",
   "execution_count": 211,
   "metadata": {},
   "outputs": [],
   "source": [
    "model_1_path = '../../data/practica/model_1.h5'\n",
    "model_2_path = '../../data/practica/model_2.h5'\n"
   ]
  },
  {
   "cell_type": "code",
   "execution_count": null,
   "metadata": {},
   "outputs": [
    {
     "name": "stdout",
     "output_type": "stream",
     "text": [
      "Model: \"sequential_4\"\n",
      "_________________________________________________________________\n",
      "Layer (type)                 Output Shape              Param #   \n",
      "=================================================================\n",
      "lstm_8 (LSTM)                (None, 100, 400)          643200    \n",
      "_________________________________________________________________\n",
      "dropout_8 (Dropout)          (None, 100, 400)          0         \n",
      "_________________________________________________________________\n",
      "lstm_9 (LSTM)                (None, 400)               1281600   \n",
      "_________________________________________________________________\n",
      "dropout_9 (Dropout)          (None, 400)               0         \n",
      "_________________________________________________________________\n",
      "dense_4 (Dense)              (None, 102)               40902     \n",
      "=================================================================\n",
      "Total params: 1,965,702\n",
      "Trainable params: 1,965,702\n",
      "Non-trainable params: 0\n",
      "_________________________________________________________________\n",
      "Epoch 1/10\n",
      "3346/5859 [================>.............] - ETA: 1:59:53 - loss: 2.8619"
     ]
    }
   ],
   "source": [
    "# Model 1\n",
    "model_1 = Sequential()\n",
    "model_1.add(LSTM(400, input_shape=(X_modified.shape[1], X_modified.shape[2]), return_sequences=True))\n",
    "model_1.add(Dropout(0.2))\n",
    "model_1.add(LSTM(400))\n",
    "model_1.add(Dropout(0.2))\n",
    "model_1.add(Dense(Y_modified.shape[1], activation='softmax'))\n",
    "model_1.compile(loss='categorical_crossentropy', optimizer='adam')\n",
    "model_1.summary()\n",
    "\n",
    "history = model_1.fit(X_modified, Y_modified, validation_split=0.05, batch_size=128, epochs=10, shuffle=True).history"
   ]
  },
  {
   "cell_type": "code",
   "execution_count": null,
   "metadata": {},
   "outputs": [],
   "source": [
    "model.compile(loss='categorical_crossentropy', optimizer='adam', metrics=['accuracy'])\n",
    "model.summary()\n",
    "history = model_1.fit(X_modified, Y_modified, validation_split=0.05, batch_size=128, epochs=10, shuffle=True).history"
   ]
  },
  {
   "cell_type": "code",
   "execution_count": 216,
   "metadata": {},
   "outputs": [
    {
     "name": "stdout",
     "output_type": "stream",
     "text": [
      "Model: \"sequential_3\"\n",
      "_________________________________________________________________\n",
      "Layer (type)                 Output Shape              Param #   \n",
      "=================================================================\n",
      "lstm_6 (LSTM)                (None, 100, 700)          1965600   \n",
      "_________________________________________________________________\n",
      "dropout_6 (Dropout)          (None, 100, 700)          0         \n",
      "_________________________________________________________________\n",
      "lstm_7 (LSTM)                (None, 700)               3922800   \n",
      "_________________________________________________________________\n",
      "dropout_7 (Dropout)          (None, 700)               0         \n",
      "_________________________________________________________________\n",
      "dense_3 (Dense)              (None, 102)               71502     \n",
      "=================================================================\n",
      "Total params: 5,959,902\n",
      "Trainable params: 5,959,902\n",
      "Non-trainable params: 0\n",
      "_________________________________________________________________\n"
     ]
    }
   ],
   "source": [
    "# Model 2\n",
    "model_2 = Sequential()\n",
    "model_2.add(LSTM(700, input_shape=(X_modified.shape[1], X_modified.shape[2]), return_sequences=True))\n",
    "model_2.add(Dropout(0.2))\n",
    "model_2.add(LSTM(700))\n",
    "model_2.add(Dropout(0.2))\n",
    "model_2.add(Dense(Y_modified.shape[1], activation='softmax'))\n",
    "model_2.compile(loss='categorical_crossentropy', optimizer='adam')\n",
    "model_2.summary()\n",
    "\n",
    "history = model_2.fit(X_modified, Y_modified, validation_split=0.05, batch_size=128, epochs=10, shuffle=True).history"
   ]
  },
  {
   "cell_type": "code",
   "execution_count": null,
   "metadata": {},
   "outputs": [],
   "source": [
    "model.compile(loss='categorical_crossentropy', optimizer='adam', metrics=['accuracy'])\n",
    "model.summary()\n",
    "history = model_2.fit(X_modified, Y_modified, validation_split=0.05, batch_size=128, epochs=10, shuffle=True).history"
   ]
  },
  {
   "cell_type": "code",
   "execution_count": null,
   "metadata": {},
   "outputs": [],
   "source": [
    "def generate_text(model, string_id):\n",
    "    string_mapped = deepcopy(string_id)\n",
    "    full_string = [n_to_char[value] for value in string_mapped]\n",
    "    \n",
    "    # Generating characters\n",
    "    for i in range(400):\n",
    "        x = np.reshape(string_mapped,(1,len(string_mapped), 1))\n",
    "        x = x / float(len(characters))\n",
    "\n",
    "        pred_index = np.argmax(model.predict(x, verbose=0))\n",
    "        seq = [n_to_char[value] for value in string_mapped]\n",
    "        full_string.append(n_to_char[pred_index])\n",
    "\n",
    "        string_mapped.append(pred_index)\n",
    "        string_mapped = string_mapped[1:len(string_mapped)]\n",
    "        \n",
    "    text = \"\"\n",
    "    for char in full_string:\n",
    "        text = text + char\n",
    "    return text"
   ]
  },
  {
   "cell_type": "code",
   "execution_count": null,
   "metadata": {},
   "outputs": [],
   "source": [
    "model_1_results = generate_text(model_1, X[5])"
   ]
  },
  {
   "cell_type": "code",
   "execution_count": null,
   "metadata": {},
   "outputs": [],
   "source": [
    "model_2_results = generate_text(model_2, X[5])"
   ]
  },
  {
   "cell_type": "code",
   "execution_count": null,
   "metadata": {},
   "outputs": [],
   "source": [
    "t = ''\n",
    "for ch in X[5]:\n",
    "    t += n_to_char.get(ch)\n",
    "print(t)"
   ]
  },
  {
   "cell_type": "code",
   "execution_count": null,
   "metadata": {},
   "outputs": [],
   "source": [
    "print(model_1_results)"
   ]
  },
  {
   "cell_type": "code",
   "execution_count": null,
   "metadata": {},
   "outputs": [],
   "source": [
    "print(model_2_results)"
   ]
  },
  {
   "cell_type": "markdown",
   "metadata": {},
   "source": [
    "Buenas Carlos, intente implemenar el modelo de NLG pero el ordenador me petada, intente incluso rebajar el dataset y nada, no entiendo porque, cuando llegaba a cierta epoca me petaba.\n",
    "Y como, se me echo el tiempo encima, no te pude preguntar que hacer, disculpa esta parte de la practica, la verdad es que estoy bastante contento con ella salvo esta ultima parte."
   ]
  },
  {
   "cell_type": "code",
   "execution_count": null,
   "metadata": {},
   "outputs": [],
   "source": []
  },
  {
   "cell_type": "code",
   "execution_count": null,
   "metadata": {},
   "outputs": [],
   "source": []
  },
  {
   "cell_type": "code",
   "execution_count": null,
   "metadata": {},
   "outputs": [],
   "source": []
  },
  {
   "cell_type": "code",
   "execution_count": null,
   "metadata": {},
   "outputs": [],
   "source": []
  },
  {
   "cell_type": "code",
   "execution_count": null,
   "metadata": {},
   "outputs": [],
   "source": []
  },
  {
   "cell_type": "code",
   "execution_count": null,
   "metadata": {},
   "outputs": [],
   "source": []
  },
  {
   "cell_type": "code",
   "execution_count": null,
   "metadata": {},
   "outputs": [],
   "source": []
  },
  {
   "cell_type": "code",
   "execution_count": null,
   "metadata": {},
   "outputs": [],
   "source": []
  },
  {
   "cell_type": "code",
   "execution_count": null,
   "metadata": {},
   "outputs": [],
   "source": []
  },
  {
   "cell_type": "code",
   "execution_count": null,
   "metadata": {},
   "outputs": [],
   "source": []
  },
  {
   "cell_type": "code",
   "execution_count": null,
   "metadata": {},
   "outputs": [],
   "source": []
  },
  {
   "cell_type": "code",
   "execution_count": null,
   "metadata": {},
   "outputs": [],
   "source": []
  },
  {
   "cell_type": "code",
   "execution_count": null,
   "metadata": {},
   "outputs": [],
   "source": []
  },
  {
   "cell_type": "code",
   "execution_count": null,
   "metadata": {},
   "outputs": [],
   "source": []
  },
  {
   "cell_type": "code",
   "execution_count": null,
   "metadata": {},
   "outputs": [],
   "source": []
  },
  {
   "cell_type": "code",
   "execution_count": null,
   "metadata": {},
   "outputs": [],
   "source": []
  },
  {
   "cell_type": "code",
   "execution_count": null,
   "metadata": {},
   "outputs": [],
   "source": []
  }
 ],
 "metadata": {
  "kernelspec": {
   "display_name": "Python 3",
   "language": "python",
   "name": "python3"
  },
  "language_info": {
   "codemirror_mode": {
    "name": "ipython",
    "version": 3
   },
   "file_extension": ".py",
   "mimetype": "text/x-python",
   "name": "python",
   "nbconvert_exporter": "python",
   "pygments_lexer": "ipython3",
   "version": "3.7.4"
  }
 },
 "nbformat": 4,
 "nbformat_minor": 4
}
